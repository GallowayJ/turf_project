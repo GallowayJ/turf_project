{
 "metadata": {
  "name": "turf_project_pandas.ipynb"
 },
 "nbformat": 3,
 "nbformat_minor": 0,
 "worksheets": [
  {
   "cells": [
    {
     "cell_type": "heading",
     "level": 1,
     "metadata": {},
     "source": [
      "Calculating the value of turf zones using Pandas"
     ]
    },
    {
     "cell_type": "code",
     "collapsed": false,
     "input": [
      "import requests\n",
      "import json\n",
      "import pandas as pd\n",
      "import datetime\n",
      "import matplotlib.pyplot as plt\n",
      "import numexpr as ne"
     ],
     "language": "python",
     "metadata": {},
     "outputs": [],
     "prompt_number": 1
    },
    {
     "cell_type": "raw",
     "metadata": {},
     "source": [
      "Fetch zone data from the turf v4 api and get current system time. The time that the data was fetched from the turf surfers will be used later in the calculation of average takeover per time delta."
     ]
    },
    {
     "cell_type": "code",
     "collapsed": false,
     "input": [
      "url = \"http://api.turfgame.com/v4/zones/all\" # get request returns .json \n",
      "r = requests.get(url)\n",
      "df = pd.read_json(r.content) # create a df containing all zone info\n",
      "current_date = datetime.datetime.now() # system time at time of import\n",
      "print current_date"
     ],
     "language": "python",
     "metadata": {},
     "outputs": [
      {
       "output_type": "stream",
       "stream": "stdout",
       "text": [
        "2014-10-11 18:41:58.225000\n"
       ]
      }
     ],
     "prompt_number": 2
    },
    {
     "cell_type": "raw",
     "metadata": {},
     "source": [
      "Let's print a preview of the dataframe the data types of each column to check that everything has been parsed properly."
     ]
    },
    {
     "cell_type": "code",
     "collapsed": false,
     "input": [
      "display(df.head(),(df.dtypes))"
     ],
     "language": "python",
     "metadata": {},
     "outputs": [
      {
       "html": [
        "<div style=\"max-height:1000px;max-width:1500px;overflow:auto;\">\n",
        "<table border=\"1\" class=\"dataframe\">\n",
        "  <thead>\n",
        "    <tr style=\"text-align: right;\">\n",
        "      <th></th>\n",
        "      <th>dateCreated</th>\n",
        "      <th>id</th>\n",
        "      <th>latitude</th>\n",
        "      <th>longitude</th>\n",
        "      <th>name</th>\n",
        "      <th>pointsPerHour</th>\n",
        "      <th>region</th>\n",
        "      <th>takeoverPoints</th>\n",
        "      <th>totalTakeovers</th>\n",
        "    </tr>\n",
        "  </thead>\n",
        "  <tbody>\n",
        "    <tr>\n",
        "      <th>0</th>\n",
        "      <td> 2014-06-15T20:02:37+0000</td>\n",
        "      <td> 31571</td>\n",
        "      <td> 55.649181</td>\n",
        "      <td> 12.609056</td>\n",
        "      <td>  Stenringen</td>\n",
        "      <td> 1</td>\n",
        "      <td> {u'country': u'dk', u'id': 172, u'name': u'Hov...</td>\n",
        "      <td> 185</td>\n",
        "      <td> 10</td>\n",
        "    </tr>\n",
        "    <tr>\n",
        "      <th>1</th>\n",
        "      <td> 2013-06-15T08:00:00+0000</td>\n",
        "      <td> 14639</td>\n",
        "      <td> 55.947079</td>\n",
        "      <td> -3.206477</td>\n",
        "      <td> GrandSquare</td>\n",
        "      <td> 1</td>\n",
        "      <td> {u'country': u'gb', u'id': 200, u'name': u'Sco...</td>\n",
        "      <td> 185</td>\n",
        "      <td> 38</td>\n",
        "    </tr>\n",
        "    <tr>\n",
        "      <th>2</th>\n",
        "      <td> 2013-06-15T08:00:00+0000</td>\n",
        "      <td> 18661</td>\n",
        "      <td> 53.754283</td>\n",
        "      <td> -1.526638</td>\n",
        "      <td> LanshawZone</td>\n",
        "      <td> 0</td>\n",
        "      <td> {u'country': u'gb', u'id': 202, u'name': u'Yor...</td>\n",
        "      <td> 250</td>\n",
        "      <td>  0</td>\n",
        "    </tr>\n",
        "    <tr>\n",
        "      <th>3</th>\n",
        "      <td> 2013-06-15T08:00:00+0000</td>\n",
        "      <td> 18958</td>\n",
        "      <td> 54.593570</td>\n",
        "      <td> -5.955772</td>\n",
        "      <td> Hospitality</td>\n",
        "      <td> 0</td>\n",
        "      <td> {u'country': u'gb', u'id': 206, u'name': u'Nor...</td>\n",
        "      <td> 250</td>\n",
        "      <td>  1</td>\n",
        "    </tr>\n",
        "    <tr>\n",
        "      <th>4</th>\n",
        "      <td> 2013-06-15T08:00:00+0000</td>\n",
        "      <td> 17424</td>\n",
        "      <td> 55.949285</td>\n",
        "      <td> -3.144777</td>\n",
        "      <td>  NoDogsZone</td>\n",
        "      <td> 0</td>\n",
        "      <td> {u'country': u'gb', u'id': 200, u'name': u'Sco...</td>\n",
        "      <td> 250</td>\n",
        "      <td>  5</td>\n",
        "    </tr>\n",
        "  </tbody>\n",
        "</table>\n",
        "</div>"
       ],
       "metadata": {},
       "output_type": "display_data",
       "text": [
        "                dateCreated     id   latitude  longitude         name  \\\n",
        "0  2014-06-15T20:02:37+0000  31571  55.649181  12.609056   Stenringen   \n",
        "1  2013-06-15T08:00:00+0000  14639  55.947079  -3.206477  GrandSquare   \n",
        "2  2013-06-15T08:00:00+0000  18661  53.754283  -1.526638  LanshawZone   \n",
        "3  2013-06-15T08:00:00+0000  18958  54.593570  -5.955772  Hospitality   \n",
        "4  2013-06-15T08:00:00+0000  17424  55.949285  -3.144777   NoDogsZone   \n",
        "\n",
        "   pointsPerHour                                             region  \\\n",
        "0              1  {u'country': u'dk', u'id': 172, u'name': u'Hov...   \n",
        "1              1  {u'country': u'gb', u'id': 200, u'name': u'Sco...   \n",
        "2              0  {u'country': u'gb', u'id': 202, u'name': u'Yor...   \n",
        "3              0  {u'country': u'gb', u'id': 206, u'name': u'Nor...   \n",
        "4              0  {u'country': u'gb', u'id': 200, u'name': u'Sco...   \n",
        "\n",
        "   takeoverPoints  totalTakeovers  \n",
        "0             185              10  \n",
        "1             185              38  \n",
        "2             250               0  \n",
        "3             250               1  \n",
        "4             250               5  "
       ]
      },
      {
       "metadata": {},
       "output_type": "display_data",
       "text": [
        "dateCreated        object\n",
        "id                  int64\n",
        "latitude          float64\n",
        "longitude         float64\n",
        "name               object\n",
        "pointsPerHour       int64\n",
        "region             object\n",
        "takeoverPoints      int64\n",
        "totalTakeovers      int64\n",
        "dtype: object"
       ]
      }
     ],
     "prompt_number": 3
    },
    {
     "cell_type": "raw",
     "metadata": {},
     "source": [
      "There are some columns which I don't need eg. 'id', the column 'dateCreated' has not been imported as the datatime64 datatype and the region column contained a nested table which we should promote to top level columns. To fix these issues we can drop uneeded columns, coerce the ints to datatime64 and pop the region column to a list before joining it to the rest of the data frame. \n",
      "\n",
      "NB: Pandas operations are generally NOT inplace, so we must assign the result where we would like it i.e. explicit overwrite the old data."
     ]
    },
    {
     "cell_type": "code",
     "collapsed": false,
     "input": [
      "region = pd.DataFrame(df.pop(\"region\").tolist())\n",
      "df = df.join(region, rsuffix=\"_region\")"
     ],
     "language": "python",
     "metadata": {},
     "outputs": [],
     "prompt_number": 4
    },
    {
     "cell_type": "code",
     "collapsed": false,
     "input": [
      "df = df[df[\"name_region\"].str.contains(\"Uppsala\")]\n",
      "display(df.head())"
     ],
     "language": "python",
     "metadata": {},
     "outputs": [
      {
       "html": [
        "<div style=\"max-height:1000px;max-width:1500px;overflow:auto;\">\n",
        "<table border=\"1\" class=\"dataframe\">\n",
        "  <thead>\n",
        "    <tr style=\"text-align: right;\">\n",
        "      <th></th>\n",
        "      <th>dateCreated</th>\n",
        "      <th>id</th>\n",
        "      <th>latitude</th>\n",
        "      <th>longitude</th>\n",
        "      <th>name</th>\n",
        "      <th>pointsPerHour</th>\n",
        "      <th>takeoverPoints</th>\n",
        "      <th>totalTakeovers</th>\n",
        "      <th>country</th>\n",
        "      <th>id_region</th>\n",
        "      <th>name_region</th>\n",
        "    </tr>\n",
        "  </thead>\n",
        "  <tbody>\n",
        "    <tr>\n",
        "      <th>28 </th>\n",
        "      <td> 2013-07-16T18:53:48+0000</td>\n",
        "      <td> 20828</td>\n",
        "      <td> 59.793476</td>\n",
        "      <td> 17.775389</td>\n",
        "      <td> MoraStenRast</td>\n",
        "      <td> 5</td>\n",
        "      <td> 125</td>\n",
        "      <td>  540</td>\n",
        "      <td> se</td>\n",
        "      <td> 142</td>\n",
        "      <td> Uppsala</td>\n",
        "    </tr>\n",
        "    <tr>\n",
        "      <th>59 </th>\n",
        "      <td> 2013-02-08T21:42:53+0000</td>\n",
        "      <td> 14797</td>\n",
        "      <td> 59.570418</td>\n",
        "      <td> 17.482116</td>\n",
        "      <td>     B\u00e5lWoods</td>\n",
        "      <td> 3</td>\n",
        "      <td> 155</td>\n",
        "      <td>  555</td>\n",
        "      <td> se</td>\n",
        "      <td> 142</td>\n",
        "      <td> Uppsala</td>\n",
        "    </tr>\n",
        "    <tr>\n",
        "      <th>102</th>\n",
        "      <td> 2014-06-19T12:00:00+0000</td>\n",
        "      <td> 31843</td>\n",
        "      <td> 59.617637</td>\n",
        "      <td> 17.077094</td>\n",
        "      <td>      EnaAlle</td>\n",
        "      <td> 5</td>\n",
        "      <td> 125</td>\n",
        "      <td>  169</td>\n",
        "      <td> se</td>\n",
        "      <td> 142</td>\n",
        "      <td> Uppsala</td>\n",
        "    </tr>\n",
        "    <tr>\n",
        "      <th>328</th>\n",
        "      <td> 2012-09-24T20:08:22+0000</td>\n",
        "      <td> 11461</td>\n",
        "      <td> 59.634438</td>\n",
        "      <td> 17.066398</td>\n",
        "      <td>     BluePark</td>\n",
        "      <td> 6</td>\n",
        "      <td> 110</td>\n",
        "      <td> 1972</td>\n",
        "      <td> se</td>\n",
        "      <td> 142</td>\n",
        "      <td> Uppsala</td>\n",
        "    </tr>\n",
        "    <tr>\n",
        "      <th>330</th>\n",
        "      <td> 2014-08-28T20:00:00+0000</td>\n",
        "      <td> 33695</td>\n",
        "      <td> 59.867027</td>\n",
        "      <td> 17.710792</td>\n",
        "      <td> EnbackensBro</td>\n",
        "      <td> 4</td>\n",
        "      <td> 140</td>\n",
        "      <td>   62</td>\n",
        "      <td> se</td>\n",
        "      <td> 142</td>\n",
        "      <td> Uppsala</td>\n",
        "    </tr>\n",
        "  </tbody>\n",
        "</table>\n",
        "</div>"
       ],
       "metadata": {},
       "output_type": "display_data",
       "text": [
        "                  dateCreated     id   latitude  longitude          name  \\\n",
        "28   2013-07-16T18:53:48+0000  20828  59.793476  17.775389  MoraStenRast   \n",
        "59   2013-02-08T21:42:53+0000  14797  59.570418  17.482116      B\u00c3\u00a5lWoods   \n",
        "102  2014-06-19T12:00:00+0000  31843  59.617637  17.077094       EnaAlle   \n",
        "328  2012-09-24T20:08:22+0000  11461  59.634438  17.066398      BluePark   \n",
        "330  2014-08-28T20:00:00+0000  33695  59.867027  17.710792  EnbackensBro   \n",
        "\n",
        "     pointsPerHour  takeoverPoints  totalTakeovers country  id_region  \\\n",
        "28               5             125             540      se        142   \n",
        "59               3             155             555      se        142   \n",
        "102              5             125             169      se        142   \n",
        "328              6             110            1972      se        142   \n",
        "330              4             140              62      se        142   \n",
        "\n",
        "    name_region  \n",
        "28      Uppsala  \n",
        "59      Uppsala  \n",
        "102     Uppsala  \n",
        "328     Uppsala  \n",
        "330     Uppsala  "
       ]
      }
     ],
     "prompt_number": 5
    },
    {
     "cell_type": "code",
     "collapsed": false,
     "input": [
      "df.describe()"
     ],
     "language": "python",
     "metadata": {},
     "outputs": [
      {
       "html": [
        "<div style=\"max-height:1000px;max-width:1500px;overflow:auto;\">\n",
        "<table border=\"1\" class=\"dataframe\">\n",
        "  <thead>\n",
        "    <tr style=\"text-align: right;\">\n",
        "      <th></th>\n",
        "      <th>id</th>\n",
        "      <th>latitude</th>\n",
        "      <th>longitude</th>\n",
        "      <th>pointsPerHour</th>\n",
        "      <th>takeoverPoints</th>\n",
        "      <th>totalTakeovers</th>\n",
        "      <th>id_region</th>\n",
        "    </tr>\n",
        "  </thead>\n",
        "  <tbody>\n",
        "    <tr>\n",
        "      <th>count</th>\n",
        "      <td>   743.000000</td>\n",
        "      <td> 743.000000</td>\n",
        "      <td> 743.000000</td>\n",
        "      <td> 743.000000</td>\n",
        "      <td> 743.000000</td>\n",
        "      <td>   743.000000</td>\n",
        "      <td> 743</td>\n",
        "    </tr>\n",
        "    <tr>\n",
        "      <th>mean</th>\n",
        "      <td> 19053.460296</td>\n",
        "      <td>  59.870546</td>\n",
        "      <td>  17.560365</td>\n",
        "      <td>   4.436070</td>\n",
        "      <td> 133.458950</td>\n",
        "      <td>   939.258412</td>\n",
        "      <td> 142</td>\n",
        "    </tr>\n",
        "    <tr>\n",
        "      <th>std</th>\n",
        "      <td> 11379.668149</td>\n",
        "      <td>   0.222685</td>\n",
        "      <td>   0.270567</td>\n",
        "      <td>   2.084054</td>\n",
        "      <td>  31.260804</td>\n",
        "      <td>  1398.031814</td>\n",
        "      <td>   0</td>\n",
        "    </tr>\n",
        "    <tr>\n",
        "      <th>min</th>\n",
        "      <td>   341.000000</td>\n",
        "      <td>  59.550474</td>\n",
        "      <td>  16.841610</td>\n",
        "      <td>   1.000000</td>\n",
        "      <td>  65.000000</td>\n",
        "      <td>     3.000000</td>\n",
        "      <td> 142</td>\n",
        "    </tr>\n",
        "    <tr>\n",
        "      <th>25%</th>\n",
        "      <td>  9039.000000</td>\n",
        "      <td>  59.778564</td>\n",
        "      <td>  17.512645</td>\n",
        "      <td>   3.000000</td>\n",
        "      <td> 110.000000</td>\n",
        "      <td>   107.000000</td>\n",
        "      <td> 142</td>\n",
        "    </tr>\n",
        "    <tr>\n",
        "      <th>50%</th>\n",
        "      <td> 20826.000000</td>\n",
        "      <td>  59.847729</td>\n",
        "      <td>  17.620927</td>\n",
        "      <td>   4.000000</td>\n",
        "      <td> 140.000000</td>\n",
        "      <td>   374.000000</td>\n",
        "      <td> 142</td>\n",
        "    </tr>\n",
        "    <tr>\n",
        "      <th>75%</th>\n",
        "      <td> 31329.500000</td>\n",
        "      <td>  59.878709</td>\n",
        "      <td>  17.665924</td>\n",
        "      <td>   6.000000</td>\n",
        "      <td> 155.000000</td>\n",
        "      <td>  1267.000000</td>\n",
        "      <td> 142</td>\n",
        "    </tr>\n",
        "    <tr>\n",
        "      <th>max</th>\n",
        "      <td> 37131.000000</td>\n",
        "      <td>  60.633078</td>\n",
        "      <td>  18.464113</td>\n",
        "      <td>   9.000000</td>\n",
        "      <td> 185.000000</td>\n",
        "      <td> 10488.000000</td>\n",
        "      <td> 142</td>\n",
        "    </tr>\n",
        "  </tbody>\n",
        "</table>\n",
        "</div>"
       ],
       "metadata": {},
       "output_type": "pyout",
       "prompt_number": 6,
       "text": [
        "                 id    latitude   longitude  pointsPerHour  takeoverPoints  \\\n",
        "count    743.000000  743.000000  743.000000     743.000000      743.000000   \n",
        "mean   19053.460296   59.870546   17.560365       4.436070      133.458950   \n",
        "std    11379.668149    0.222685    0.270567       2.084054       31.260804   \n",
        "min      341.000000   59.550474   16.841610       1.000000       65.000000   \n",
        "25%     9039.000000   59.778564   17.512645       3.000000      110.000000   \n",
        "50%    20826.000000   59.847729   17.620927       4.000000      140.000000   \n",
        "75%    31329.500000   59.878709   17.665924       6.000000      155.000000   \n",
        "max    37131.000000   60.633078   18.464113       9.000000      185.000000   \n",
        "\n",
        "       totalTakeovers  id_region  \n",
        "count      743.000000        743  \n",
        "mean       939.258412        142  \n",
        "std       1398.031814          0  \n",
        "min          3.000000        142  \n",
        "25%        107.000000        142  \n",
        "50%        374.000000        142  \n",
        "75%       1267.000000        142  \n",
        "max      10488.000000        142  "
       ]
      }
     ],
     "prompt_number": 6
    },
    {
     "cell_type": "raw",
     "metadata": {},
     "source": [
      "I'm interested in the 'Uppsala' region, so I'll use .str.contains() to search for 'Uppsala', df[df[]] to select this slice and overwrite them to our old dataframe."
     ]
    },
    {
     "cell_type": "raw",
     "metadata": {},
     "source": [
      "Finally I'll get rid of uneeded columns using .drop and coerce the dataCreated column to datetime64."
     ]
    },
    {
     "cell_type": "code",
     "collapsed": false,
     "input": [
      "df.drop(['id', 'id_region', 'country', 'name_region'],inplace=True, axis = 1)"
     ],
     "language": "python",
     "metadata": {},
     "outputs": [],
     "prompt_number": 7
    },
    {
     "cell_type": "code",
     "collapsed": false,
     "input": [
      "df['dateCreated'] = df['dateCreated'].convert_objects(convert_dates='coerce')\n",
      "display(df.head(), df.dtypes)"
     ],
     "language": "python",
     "metadata": {},
     "outputs": [
      {
       "html": [
        "<div style=\"max-height:1000px;max-width:1500px;overflow:auto;\">\n",
        "<table border=\"1\" class=\"dataframe\">\n",
        "  <thead>\n",
        "    <tr style=\"text-align: right;\">\n",
        "      <th></th>\n",
        "      <th>dateCreated</th>\n",
        "      <th>latitude</th>\n",
        "      <th>longitude</th>\n",
        "      <th>name</th>\n",
        "      <th>pointsPerHour</th>\n",
        "      <th>takeoverPoints</th>\n",
        "      <th>totalTakeovers</th>\n",
        "    </tr>\n",
        "  </thead>\n",
        "  <tbody>\n",
        "    <tr>\n",
        "      <th>28 </th>\n",
        "      <td>2013-07-16 18:53:48</td>\n",
        "      <td> 59.793476</td>\n",
        "      <td> 17.775389</td>\n",
        "      <td> MoraStenRast</td>\n",
        "      <td> 5</td>\n",
        "      <td> 125</td>\n",
        "      <td>  540</td>\n",
        "    </tr>\n",
        "    <tr>\n",
        "      <th>59 </th>\n",
        "      <td>2013-02-08 21:42:53</td>\n",
        "      <td> 59.570418</td>\n",
        "      <td> 17.482116</td>\n",
        "      <td>     B\u00e5lWoods</td>\n",
        "      <td> 3</td>\n",
        "      <td> 155</td>\n",
        "      <td>  555</td>\n",
        "    </tr>\n",
        "    <tr>\n",
        "      <th>102</th>\n",
        "      <td>2014-06-19 12:00:00</td>\n",
        "      <td> 59.617637</td>\n",
        "      <td> 17.077094</td>\n",
        "      <td>      EnaAlle</td>\n",
        "      <td> 5</td>\n",
        "      <td> 125</td>\n",
        "      <td>  169</td>\n",
        "    </tr>\n",
        "    <tr>\n",
        "      <th>328</th>\n",
        "      <td>2012-09-24 20:08:22</td>\n",
        "      <td> 59.634438</td>\n",
        "      <td> 17.066398</td>\n",
        "      <td>     BluePark</td>\n",
        "      <td> 6</td>\n",
        "      <td> 110</td>\n",
        "      <td> 1972</td>\n",
        "    </tr>\n",
        "    <tr>\n",
        "      <th>330</th>\n",
        "      <td>2014-08-28 20:00:00</td>\n",
        "      <td> 59.867027</td>\n",
        "      <td> 17.710792</td>\n",
        "      <td> EnbackensBro</td>\n",
        "      <td> 4</td>\n",
        "      <td> 140</td>\n",
        "      <td>   62</td>\n",
        "    </tr>\n",
        "  </tbody>\n",
        "</table>\n",
        "</div>"
       ],
       "metadata": {},
       "output_type": "display_data",
       "text": [
        "            dateCreated   latitude  longitude          name  pointsPerHour  \\\n",
        "28  2013-07-16 18:53:48  59.793476  17.775389  MoraStenRast              5   \n",
        "59  2013-02-08 21:42:53  59.570418  17.482116      B\u00c3\u00a5lWoods              3   \n",
        "102 2014-06-19 12:00:00  59.617637  17.077094       EnaAlle              5   \n",
        "328 2012-09-24 20:08:22  59.634438  17.066398      BluePark              6   \n",
        "330 2014-08-28 20:00:00  59.867027  17.710792  EnbackensBro              4   \n",
        "\n",
        "     takeoverPoints  totalTakeovers  \n",
        "28              125             540  \n",
        "59              155             555  \n",
        "102             125             169  \n",
        "328             110            1972  \n",
        "330             140              62  "
       ]
      },
      {
       "metadata": {},
       "output_type": "display_data",
       "text": [
        "dateCreated       datetime64[ns]\n",
        "latitude                 float64\n",
        "longitude                float64\n",
        "name                      object\n",
        "pointsPerHour              int64\n",
        "takeoverPoints             int64\n",
        "totalTakeovers             int64\n",
        "dtype: object"
       ]
      }
     ],
     "prompt_number": 8
    },
    {
     "cell_type": "heading",
     "level": 2,
     "metadata": {},
     "source": [
      "Calculations"
     ]
    },
    {
     "cell_type": "raw",
     "metadata": {},
     "source": [
      "Now that the data has been imported in the correct format it's time to calculate the relative value of each zone. To do this I'll calculate an average hold time (in hours). I'll multiply this value by the zone's pph and add the takeover points."
     ]
    },
    {
     "cell_type": "code",
     "collapsed": false,
     "input": [
      "df['time_elapsed'] = current_date - df['dateCreated']\n",
      "display(df['time_elapsed'].head())"
     ],
     "language": "python",
     "metadata": {},
     "outputs": [
      {
       "metadata": {},
       "output_type": "display_data",
       "text": [
        "28    436 days, 03:22:13.292000\n",
        "59    594 days, 00:33:08.292000\n",
        "102    98 days, 10:16:01.292000\n",
        "328   731 days, 02:07:39.292000\n",
        "330    28 days, 02:16:01.292000\n",
        "Name: time_elapsed, dtype: timedelta64[ns]"
       ]
      }
     ],
     "prompt_number": 9
    },
    {
     "cell_type": "raw",
     "metadata": {},
     "source": [
      "Now we have the timedelta between the zone's creation and the present we need to convert it into hours. NB Timedelta is measured in ns but presented in the most readable combination of absolute units (ie. days, hours, minutes, seconds)."
     ]
    },
    {
     "cell_type": "code",
     "collapsed": false,
     "input": [
      "df['time_elapsed'] = df['time_elapsed'].astype('timedelta64[D]') * 24\n",
      "display(df['time_elapsed'].head())"
     ],
     "language": "python",
     "metadata": {},
     "outputs": [
      {
       "metadata": {},
       "output_type": "display_data",
       "text": [
        "28     10464\n",
        "59     14256\n",
        "102     2352\n",
        "328    17544\n",
        "330      672\n",
        "Name: time_elapsed, dtype: float64"
       ]
      }
     ],
     "prompt_number": 10
    },
    {
     "cell_type": "raw",
     "metadata": {},
     "source": [
      "NB That the column is now a float64 and not a timedelta64"
     ]
    },
    {
     "cell_type": "code",
     "collapsed": false,
     "input": [
      "df['hold_time'] = df['time_elapsed'] / df['totalTakeovers']\n",
      "df['total_value'] = (df['hold_time'] * df['pointsPerHour']) + df['takeoverPoints']"
     ],
     "language": "python",
     "metadata": {},
     "outputs": [],
     "prompt_number": 11
    },
    {
     "cell_type": "code",
     "collapsed": false,
     "input": [
      "display(df.columns, df.head())"
     ],
     "language": "python",
     "metadata": {},
     "outputs": [
      {
       "metadata": {},
       "output_type": "display_data",
       "text": [
        "Index([u'dateCreated', u'latitude', u'longitude', u'name', u'pointsPerHour', u'takeoverPoints', u'totalTakeovers', u'time_elapsed', u'hold_time', u'total_value'], dtype='object')"
       ]
      },
      {
       "html": [
        "<div style=\"max-height:1000px;max-width:1500px;overflow:auto;\">\n",
        "<table border=\"1\" class=\"dataframe\">\n",
        "  <thead>\n",
        "    <tr style=\"text-align: right;\">\n",
        "      <th></th>\n",
        "      <th>dateCreated</th>\n",
        "      <th>latitude</th>\n",
        "      <th>longitude</th>\n",
        "      <th>name</th>\n",
        "      <th>pointsPerHour</th>\n",
        "      <th>takeoverPoints</th>\n",
        "      <th>totalTakeovers</th>\n",
        "      <th>time_elapsed</th>\n",
        "      <th>hold_time</th>\n",
        "      <th>total_value</th>\n",
        "    </tr>\n",
        "  </thead>\n",
        "  <tbody>\n",
        "    <tr>\n",
        "      <th>28 </th>\n",
        "      <td>2013-07-16 18:53:48</td>\n",
        "      <td> 59.793476</td>\n",
        "      <td> 17.775389</td>\n",
        "      <td> MoraStenRast</td>\n",
        "      <td> 5</td>\n",
        "      <td> 125</td>\n",
        "      <td>  540</td>\n",
        "      <td> 10464</td>\n",
        "      <td> 19.377778</td>\n",
        "      <td> 221.888889</td>\n",
        "    </tr>\n",
        "    <tr>\n",
        "      <th>59 </th>\n",
        "      <td>2013-02-08 21:42:53</td>\n",
        "      <td> 59.570418</td>\n",
        "      <td> 17.482116</td>\n",
        "      <td>     B\u00e5lWoods</td>\n",
        "      <td> 3</td>\n",
        "      <td> 155</td>\n",
        "      <td>  555</td>\n",
        "      <td> 14256</td>\n",
        "      <td> 25.686486</td>\n",
        "      <td> 232.059459</td>\n",
        "    </tr>\n",
        "    <tr>\n",
        "      <th>102</th>\n",
        "      <td>2014-06-19 12:00:00</td>\n",
        "      <td> 59.617637</td>\n",
        "      <td> 17.077094</td>\n",
        "      <td>      EnaAlle</td>\n",
        "      <td> 5</td>\n",
        "      <td> 125</td>\n",
        "      <td>  169</td>\n",
        "      <td>  2352</td>\n",
        "      <td> 13.917160</td>\n",
        "      <td> 194.585799</td>\n",
        "    </tr>\n",
        "    <tr>\n",
        "      <th>328</th>\n",
        "      <td>2012-09-24 20:08:22</td>\n",
        "      <td> 59.634438</td>\n",
        "      <td> 17.066398</td>\n",
        "      <td>     BluePark</td>\n",
        "      <td> 6</td>\n",
        "      <td> 110</td>\n",
        "      <td> 1972</td>\n",
        "      <td> 17544</td>\n",
        "      <td>  8.896552</td>\n",
        "      <td> 163.379310</td>\n",
        "    </tr>\n",
        "    <tr>\n",
        "      <th>330</th>\n",
        "      <td>2014-08-28 20:00:00</td>\n",
        "      <td> 59.867027</td>\n",
        "      <td> 17.710792</td>\n",
        "      <td> EnbackensBro</td>\n",
        "      <td> 4</td>\n",
        "      <td> 140</td>\n",
        "      <td>   62</td>\n",
        "      <td>   672</td>\n",
        "      <td> 10.838710</td>\n",
        "      <td> 183.354839</td>\n",
        "    </tr>\n",
        "  </tbody>\n",
        "</table>\n",
        "</div>"
       ],
       "metadata": {},
       "output_type": "display_data",
       "text": [
        "            dateCreated   latitude  longitude          name  pointsPerHour  \\\n",
        "28  2013-07-16 18:53:48  59.793476  17.775389  MoraStenRast              5   \n",
        "59  2013-02-08 21:42:53  59.570418  17.482116      B\u00c3\u00a5lWoods              3   \n",
        "102 2014-06-19 12:00:00  59.617637  17.077094       EnaAlle              5   \n",
        "328 2012-09-24 20:08:22  59.634438  17.066398      BluePark              6   \n",
        "330 2014-08-28 20:00:00  59.867027  17.710792  EnbackensBro              4   \n",
        "\n",
        "     takeoverPoints  totalTakeovers  time_elapsed  hold_time  total_value  \n",
        "28              125             540         10464  19.377778   221.888889  \n",
        "59              155             555         14256  25.686486   232.059459  \n",
        "102             125             169          2352  13.917160   194.585799  \n",
        "328             110            1972         17544   8.896552   163.379310  \n",
        "330             140              62           672  10.838710   183.354839  "
       ]
      }
     ],
     "prompt_number": 12
    },
    {
     "cell_type": "code",
     "collapsed": false,
     "input": [
      "df.sort(ascending=False, columns='total_value').head(n=10)"
     ],
     "language": "python",
     "metadata": {},
     "outputs": [
      {
       "html": [
        "<div style=\"max-height:1000px;max-width:1500px;overflow:auto;\">\n",
        "<table border=\"1\" class=\"dataframe\">\n",
        "  <thead>\n",
        "    <tr style=\"text-align: right;\">\n",
        "      <th></th>\n",
        "      <th>dateCreated</th>\n",
        "      <th>latitude</th>\n",
        "      <th>longitude</th>\n",
        "      <th>name</th>\n",
        "      <th>pointsPerHour</th>\n",
        "      <th>takeoverPoints</th>\n",
        "      <th>totalTakeovers</th>\n",
        "      <th>time_elapsed</th>\n",
        "      <th>hold_time</th>\n",
        "      <th>total_value</th>\n",
        "    </tr>\n",
        "  </thead>\n",
        "  <tbody>\n",
        "    <tr>\n",
        "      <th>24863</th>\n",
        "      <td>2012-10-03 01:12:41</td>\n",
        "      <td> 59.920197</td>\n",
        "      <td> 18.312498</td>\n",
        "      <td>       Hosj\u00f6n</td>\n",
        "      <td> 1</td>\n",
        "      <td> 185</td>\n",
        "      <td>  23</td>\n",
        "      <td> 17328</td>\n",
        "      <td> 753.391304</td>\n",
        "      <td> 938.391304</td>\n",
        "    </tr>\n",
        "    <tr>\n",
        "      <th>6879 </th>\n",
        "      <td>2012-03-21 09:28:40</td>\n",
        "      <td> 59.831727</td>\n",
        "      <td> 17.909640</td>\n",
        "      <td> Fj\u00e4llnoraBad</td>\n",
        "      <td> 1</td>\n",
        "      <td> 185</td>\n",
        "      <td>  40</td>\n",
        "      <td> 22032</td>\n",
        "      <td> 550.800000</td>\n",
        "      <td> 735.800000</td>\n",
        "    </tr>\n",
        "    <tr>\n",
        "      <th>23207</th>\n",
        "      <td>2014-07-28 22:00:00</td>\n",
        "      <td> 59.551758</td>\n",
        "      <td> 17.552917</td>\n",
        "      <td>   B\u00e5lstaDopp</td>\n",
        "      <td> 1</td>\n",
        "      <td> 185</td>\n",
        "      <td>   3</td>\n",
        "      <td>  1416</td>\n",
        "      <td> 472.000000</td>\n",
        "      <td> 657.000000</td>\n",
        "    </tr>\n",
        "    <tr>\n",
        "      <th>21925</th>\n",
        "      <td>2011-09-05 20:00:05</td>\n",
        "      <td> 60.263957</td>\n",
        "      <td> 18.382809</td>\n",
        "      <td>    Krutudden</td>\n",
        "      <td> 2</td>\n",
        "      <td> 170</td>\n",
        "      <td> 120</td>\n",
        "      <td> 26784</td>\n",
        "      <td> 223.200000</td>\n",
        "      <td> 616.400000</td>\n",
        "    </tr>\n",
        "    <tr>\n",
        "      <th>29527</th>\n",
        "      <td>2011-09-05 20:03:38</td>\n",
        "      <td> 60.253524</td>\n",
        "      <td> 18.369879</td>\n",
        "      <td>  LimitStreet</td>\n",
        "      <td> 2</td>\n",
        "      <td> 170</td>\n",
        "      <td> 120</td>\n",
        "      <td> 26784</td>\n",
        "      <td> 223.200000</td>\n",
        "      <td> 616.400000</td>\n",
        "    </tr>\n",
        "    <tr>\n",
        "      <th>11732</th>\n",
        "      <td>2012-08-24 17:23:37</td>\n",
        "      <td> 60.340532</td>\n",
        "      <td> 18.444770</td>\n",
        "      <td>   Fyrskeppet</td>\n",
        "      <td> 3</td>\n",
        "      <td> 155</td>\n",
        "      <td> 124</td>\n",
        "      <td> 18288</td>\n",
        "      <td> 147.483871</td>\n",
        "      <td> 597.451613</td>\n",
        "    </tr>\n",
        "    <tr>\n",
        "      <th>4506 </th>\n",
        "      <td>2011-09-05 20:12:37</td>\n",
        "      <td> 60.167642</td>\n",
        "      <td> 18.184051</td>\n",
        "      <td>     GimoWood</td>\n",
        "      <td> 2</td>\n",
        "      <td> 170</td>\n",
        "      <td> 128</td>\n",
        "      <td> 26784</td>\n",
        "      <td> 209.250000</td>\n",
        "      <td> 588.500000</td>\n",
        "    </tr>\n",
        "    <tr>\n",
        "      <th>4326 </th>\n",
        "      <td>2011-09-05 20:05:22</td>\n",
        "      <td> 60.263503</td>\n",
        "      <td> 18.362011</td>\n",
        "      <td>    Springway</td>\n",
        "      <td> 2</td>\n",
        "      <td> 170</td>\n",
        "      <td> 142</td>\n",
        "      <td> 26784</td>\n",
        "      <td> 188.619718</td>\n",
        "      <td> 547.239437</td>\n",
        "    </tr>\n",
        "    <tr>\n",
        "      <th>925  </th>\n",
        "      <td>2012-09-24 20:16:36</td>\n",
        "      <td> 59.590615</td>\n",
        "      <td> 17.070424</td>\n",
        "      <td>     Bredsand</td>\n",
        "      <td> 3</td>\n",
        "      <td> 155</td>\n",
        "      <td> 139</td>\n",
        "      <td> 17544</td>\n",
        "      <td> 126.215827</td>\n",
        "      <td> 533.647482</td>\n",
        "    </tr>\n",
        "    <tr>\n",
        "      <th>7890 </th>\n",
        "      <td>2011-09-05 20:09:26</td>\n",
        "      <td> 60.172488</td>\n",
        "      <td> 18.168906</td>\n",
        "      <td>  Gymnasieway</td>\n",
        "      <td> 2</td>\n",
        "      <td> 170</td>\n",
        "      <td> 148</td>\n",
        "      <td> 26784</td>\n",
        "      <td> 180.972973</td>\n",
        "      <td> 531.945946</td>\n",
        "    </tr>\n",
        "  </tbody>\n",
        "</table>\n",
        "</div>"
       ],
       "metadata": {},
       "output_type": "pyout",
       "prompt_number": 13,
       "text": [
        "              dateCreated   latitude  longitude          name  pointsPerHour  \\\n",
        "24863 2012-10-03 01:12:41  59.920197  18.312498        Hosj\u00f6n              1   \n",
        "6879  2012-03-21 09:28:40  59.831727  17.909640  Fj\u00e4llnoraBad              1   \n",
        "23207 2014-07-28 22:00:00  59.551758  17.552917    B\u00e5lstaDopp              1   \n",
        "21925 2011-09-05 20:00:05  60.263957  18.382809     Krutudden              2   \n",
        "29527 2011-09-05 20:03:38  60.253524  18.369879   LimitStreet              2   \n",
        "11732 2012-08-24 17:23:37  60.340532  18.444770    Fyrskeppet              3   \n",
        "4506  2011-09-05 20:12:37  60.167642  18.184051      GimoWood              2   \n",
        "4326  2011-09-05 20:05:22  60.263503  18.362011     Springway              2   \n",
        "925   2012-09-24 20:16:36  59.590615  17.070424      Bredsand              3   \n",
        "7890  2011-09-05 20:09:26  60.172488  18.168906   Gymnasieway              2   \n",
        "\n",
        "       takeoverPoints  totalTakeovers  time_elapsed   hold_time  total_value  \n",
        "24863             185              23         17328  753.391304   938.391304  \n",
        "6879              185              40         22032  550.800000   735.800000  \n",
        "23207             185               3          1416  472.000000   657.000000  \n",
        "21925             170             120         26784  223.200000   616.400000  \n",
        "29527             170             120         26784  223.200000   616.400000  \n",
        "11732             155             124         18288  147.483871   597.451613  \n",
        "4506              170             128         26784  209.250000   588.500000  \n",
        "4326              170             142         26784  188.619718   547.239437  \n",
        "925               155             139         17544  126.215827   533.647482  \n",
        "7890              170             148         26784  180.972973   531.945946  "
       ]
      }
     ],
     "prompt_number": 13
    },
    {
     "cell_type": "raw",
     "metadata": {},
     "source": [
      "Some zones classified by the turf game as being in the Uppsala region are quite far from the city of Uppsala so we'll use .query() to refine our subselection of zones."
     ]
    },
    {
     "cell_type": "code",
     "collapsed": false,
     "input": [
      "df = df.query('latitude < 59.8 & longitude < 17.4')"
     ],
     "language": "python",
     "metadata": {},
     "outputs": [],
     "prompt_number": 14
    },
    {
     "cell_type": "raw",
     "metadata": {},
     "source": [
      "Now that we have completed our calculations let's write it to a .json file so that we can export it to be plotted it on a Google map."
     ]
    },
    {
     "cell_type": "code",
     "collapsed": false,
     "input": [
      "df.to_json(path_or_buf='C:\\\\Users\\\\Jason\\\\Documents\\\\GitHub\\\\Turf_project\\\\df_json')"
     ],
     "language": "python",
     "metadata": {},
     "outputs": [],
     "prompt_number": 17
    },
    {
     "cell_type": "heading",
     "level": 2,
     "metadata": {},
     "source": [
      "Creating custom maps with Google Maps Engine API"
     ]
    },
    {
     "cell_type": "raw",
     "metadata": {},
     "source": [
      "We will use the Google Maps Engine API to plot our data, in order to do this we need to create a table containing our data on the GME API"
     ]
    },
    {
     "cell_type": "code",
     "collapsed": false,
     "input": [
      "import httplib2\n",
      "import sys\n",
      "\n",
      "from apiclient.discovery import build\n",
      "from oauth2client.file import Storage\n",
      "from oauth2client.client import AccessTokenRefreshError\n",
      "from oauth2client.client import OAuth2WebServerFlow\n",
      "from oauth2client.tools import run"
     ],
     "language": "python",
     "metadata": {},
     "outputs": [],
     "prompt_number": 10
    },
    {
     "cell_type": "code",
     "collapsed": false,
     "input": [
      "#flow = OAuth2WebServerFlow(client_id=client_id, client_secret=client_secret, redirect_uri='',scope=scope,user_agent=''"
     ],
     "language": "python",
     "metadata": {},
     "outputs": []
    },
    {
     "cell_type": "raw",
     "metadata": {},
     "source": [
      "We will interact with the GME API using Google APIs Client for Python. To avoid having to repeatedly authenticate with each call we create object to store our creditials."
     ]
    },
    {
     "cell_type": "code",
     "collapsed": false,
     "input": [
      "with open('C:\\\\Users\\\\Jason\\\\Documents\\\\client_id.txt') as f:\n",
      "    client_id = f.read()\n",
      "with open('C:\\\\Users\\\\Jason\\\\Documents\\\\client_secret.txt') as f:\n",
      "    client_secret = f.read()"
     ],
     "language": "python",
     "metadata": {},
     "outputs": [],
     "prompt_number": 11
    },
    {
     "cell_type": "code",
     "collapsed": false,
     "input": [
      "with open('C:\\\\Users\\\\Jason\\\\Documents\\\\GitHub\\\\Turf_project\\\\df_json') as f:\n",
      "    df_json = f.read()"
     ],
     "language": "python",
     "metadata": {},
     "outputs": [],
     "prompt_number": 20
    },
    {
     "cell_type": "code",
     "collapsed": false,
     "input": [],
     "language": "python",
     "metadata": {},
     "outputs": []
    },
    {
     "cell_type": "code",
     "collapsed": false,
     "input": [
      "#redirect_uri= 'http://localhost:8080/'\n",
      "scope = 'https://www.googleapis.com/auth/mapsengine'\n",
      "flow = OAuth2WebServerFlow(client_id, client_secret, scope)\n",
      "storage = Storage('C:\\\\Users\\\\Jason\\\\Documents\\\\credentials.dat')\n",
      "credentials = storage.get()"
     ],
     "language": "python",
     "metadata": {},
     "outputs": [],
     "prompt_number": 12
    },
    {
     "cell_type": "code",
     "collapsed": false,
     "input": [
      "credentials = run(flow, storage)"
     ],
     "language": "python",
     "metadata": {},
     "outputs": [
      {
       "output_type": "stream",
       "stream": "stderr",
       "text": [
        "WARNING:root:This function, oauth2client.tools.run(), and the use of the gflags library are deprecated and will be removed in a future version of the library.\n"
       ]
      },
      {
       "ename": "SystemExit",
       "evalue": "Authentication has failed: invalid_client",
       "output_type": "pyerr",
       "traceback": [
        "An exception has occurred, use %tb to see the full traceback.\n",
        "\u001b[1;31mSystemExit\u001b[0m\u001b[1;31m:\u001b[0m Authentication has failed: invalid_client\n"
       ]
      },
      {
       "output_type": "stream",
       "stream": "stdout",
       "text": [
        "Your browser has been opened to visit:\n",
        "\n",
        "    https://accounts.google.com/o/oauth2/auth?scope=https%3A%2F%2Fwww.googleapis.com%2Fauth%2Fmapsengine&redirect_uri=http%3A%2F%2Flocalhost%3A8080%2F&response_type=code&client_id=794143734872-gb4f145ur14gplj27v2mmpec1tifa1qd.apps.googleusercontent.com&access_type=offline\n",
        "\n",
        "If your browser is on a different machine then exit and re-run\n",
        "this application with the command-line parameter \n",
        "\n",
        "  --noauth_local_webserver\n",
        "\n"
       ]
      },
      {
       "output_type": "stream",
       "stream": "stderr",
       "text": [
        "To exit: use 'exit', 'quit', or Ctrl-D.\n"
       ]
      }
     ],
     "prompt_number": 13
    },
    {
     "cell_type": "code",
     "collapsed": false,
     "input": [
      "import argparse\n",
      "from oauth2client import tools\n",
      "\n",
      "parser = argparse.ArgumentParser(parents=[tools.argparser])\n",
      "flags = parser.parse_args()\n",
      "\n",
      "credentials = tools.run_flow(flow, storage, flags)"
     ],
     "language": "python",
     "metadata": {},
     "outputs": [
      {
       "ename": "SystemExit",
       "evalue": "2",
       "output_type": "pyerr",
       "traceback": [
        "An exception has occurred, use %tb to see the full traceback.\n",
        "\u001b[1;31mSystemExit\u001b[0m\u001b[1;31m:\u001b[0m 2\n"
       ]
      },
      {
       "output_type": "stream",
       "stream": "stderr",
       "text": [
        "usage: -c [-h] [--auth_host_name AUTH_HOST_NAME] [--noauth_local_webserver]\n",
        "          [--auth_host_port [AUTH_HOST_PORT [AUTH_HOST_PORT ...]]]\n",
        "          [--logging_level {DEBUG,INFO,WARNING,ERROR,CRITICAL}]\n",
        "-c: error: unrecognized arguments: -f C:\\Users\\Jason\\.ipython\\profile_default\\security\\kernel-33f72f16-76f1-433c-9d9e-f90dc669a640.json --pylab=inline --no-stdout --no-stderr\n",
        "To exit: use 'exit', 'quit', or Ctrl-D.\n"
       ]
      }
     ],
     "prompt_number": 66
    },
    {
     "cell_type": "code",
     "collapsed": false,
     "input": [
      "http = httplib2.Http()\n",
      "http = credentials.authorize(http)"
     ],
     "language": "python",
     "metadata": {},
     "outputs": [],
     "prompt_number": 14
    },
    {
     "cell_type": "code",
     "collapsed": false,
     "input": [
      "with open('C:\\\\Users\\\\Jason\\\\Documents\\\\api_key.txt') as f:\n",
      "    api_key = f.read()"
     ],
     "language": "python",
     "metadata": {},
     "outputs": [],
     "prompt_number": 21
    },
    {
     "cell_type": "code",
     "collapsed": false,
     "input": [
      "service = build('mapsengine', 'v1', developerKey=api_key, http=http)"
     ],
     "language": "python",
     "metadata": {},
     "outputs": [],
     "prompt_number": 27
    },
    {
     "cell_type": "code",
     "collapsed": false,
     "input": [
      "table = service.tables()"
     ],
     "language": "python",
     "metadata": {},
     "outputs": [],
     "prompt_number": 28
    },
    {
     "cell_type": "code",
     "collapsed": false,
     "input": [
      "request = table.files().insert(id='11', filename='C:\\\\Users\\\\Jason\\\\Documents\\\\GitHub\\\\Turf_project\\\\df_json', media_body=None)"
     ],
     "language": "python",
     "metadata": {},
     "outputs": [],
     "prompt_number": 29
    },
    {
     "cell_type": "code",
     "collapsed": false,
     "input": [
      "response = request.execute()"
     ],
     "language": "python",
     "metadata": {},
     "outputs": [
      {
       "ename": "AccessTokenRefreshError",
       "evalue": "invalid_grant",
       "output_type": "pyerr",
       "traceback": [
        "\u001b[1;31m---------------------------------------------------------------------------\u001b[0m\n\u001b[1;31mAccessTokenRefreshError\u001b[0m                   Traceback (most recent call last)",
        "\u001b[1;32m<ipython-input-30-698f94a34d91>\u001b[0m in \u001b[0;36m<module>\u001b[1;34m()\u001b[0m\n\u001b[1;32m----> 1\u001b[1;33m \u001b[0mresponse\u001b[0m \u001b[1;33m=\u001b[0m \u001b[0mrequest\u001b[0m\u001b[1;33m.\u001b[0m\u001b[0mexecute\u001b[0m\u001b[1;33m(\u001b[0m\u001b[1;33m)\u001b[0m\u001b[1;33m\u001b[0m\u001b[0m\n\u001b[0m",
        "\u001b[1;32mC:\\Users\\Jason\\AppData\\Local\\Enthought\\Canopy32\\User\\lib\\site-packages\\oauth2client\\util.pyc\u001b[0m in \u001b[0;36mpositional_wrapper\u001b[1;34m(*args, **kwargs)\u001b[0m\n\u001b[0;32m    130\u001b[0m         \u001b[1;32melse\u001b[0m\u001b[1;33m:\u001b[0m \u001b[1;31m# IGNORE\u001b[0m\u001b[1;33m\u001b[0m\u001b[0m\n\u001b[0;32m    131\u001b[0m           \u001b[1;32mpass\u001b[0m\u001b[1;33m\u001b[0m\u001b[0m\n\u001b[1;32m--> 132\u001b[1;33m       \u001b[1;32mreturn\u001b[0m \u001b[0mwrapped\u001b[0m\u001b[1;33m(\u001b[0m\u001b[1;33m*\u001b[0m\u001b[0margs\u001b[0m\u001b[1;33m,\u001b[0m \u001b[1;33m**\u001b[0m\u001b[0mkwargs\u001b[0m\u001b[1;33m)\u001b[0m\u001b[1;33m\u001b[0m\u001b[0m\n\u001b[0m\u001b[0;32m    133\u001b[0m     \u001b[1;32mreturn\u001b[0m \u001b[0mpositional_wrapper\u001b[0m\u001b[1;33m\u001b[0m\u001b[0m\n\u001b[0;32m    134\u001b[0m \u001b[1;33m\u001b[0m\u001b[0m\n",
        "\u001b[1;32mC:\\Users\\Jason\\AppData\\Local\\Enthought\\Canopy32\\User\\lib\\site-packages\\apiclient\\http.pyc\u001b[0m in \u001b[0;36mexecute\u001b[1;34m(self, http, num_retries)\u001b[0m\n\u001b[0;32m    714\u001b[0m \u001b[1;33m\u001b[0m\u001b[0m\n\u001b[0;32m    715\u001b[0m       resp, content = http.request(str(self.uri), method=str(self.method),\n\u001b[1;32m--> 716\u001b[1;33m                                    body=self.body, headers=self.headers)\n\u001b[0m\u001b[0;32m    717\u001b[0m       \u001b[1;32mif\u001b[0m \u001b[0mresp\u001b[0m\u001b[1;33m.\u001b[0m\u001b[0mstatus\u001b[0m \u001b[1;33m<\u001b[0m \u001b[1;36m500\u001b[0m\u001b[1;33m:\u001b[0m\u001b[1;33m\u001b[0m\u001b[0m\n\u001b[0;32m    718\u001b[0m         \u001b[1;32mbreak\u001b[0m\u001b[1;33m\u001b[0m\u001b[0m\n",
        "\u001b[1;32mC:\\Users\\Jason\\AppData\\Local\\Enthought\\Canopy32\\User\\lib\\site-packages\\oauth2client\\util.pyc\u001b[0m in \u001b[0;36mpositional_wrapper\u001b[1;34m(*args, **kwargs)\u001b[0m\n\u001b[0;32m    130\u001b[0m         \u001b[1;32melse\u001b[0m\u001b[1;33m:\u001b[0m \u001b[1;31m# IGNORE\u001b[0m\u001b[1;33m\u001b[0m\u001b[0m\n\u001b[0;32m    131\u001b[0m           \u001b[1;32mpass\u001b[0m\u001b[1;33m\u001b[0m\u001b[0m\n\u001b[1;32m--> 132\u001b[1;33m       \u001b[1;32mreturn\u001b[0m \u001b[0mwrapped\u001b[0m\u001b[1;33m(\u001b[0m\u001b[1;33m*\u001b[0m\u001b[0margs\u001b[0m\u001b[1;33m,\u001b[0m \u001b[1;33m**\u001b[0m\u001b[0mkwargs\u001b[0m\u001b[1;33m)\u001b[0m\u001b[1;33m\u001b[0m\u001b[0m\n\u001b[0m\u001b[0;32m    133\u001b[0m     \u001b[1;32mreturn\u001b[0m \u001b[0mpositional_wrapper\u001b[0m\u001b[1;33m\u001b[0m\u001b[0m\n\u001b[0;32m    134\u001b[0m \u001b[1;33m\u001b[0m\u001b[0m\n",
        "\u001b[1;32mC:\\Users\\Jason\\AppData\\Local\\Enthought\\Canopy32\\User\\lib\\site-packages\\oauth2client\\client.pyc\u001b[0m in \u001b[0;36mnew_request\u001b[1;34m(uri, method, body, headers, redirections, connection_type)\u001b[0m\n\u001b[0;32m    492\u001b[0m       \u001b[1;32mif\u001b[0m \u001b[0mresp\u001b[0m\u001b[1;33m.\u001b[0m\u001b[0mstatus\u001b[0m \u001b[1;32min\u001b[0m \u001b[0mREFRESH_STATUS_CODES\u001b[0m\u001b[1;33m:\u001b[0m\u001b[1;33m\u001b[0m\u001b[0m\n\u001b[0;32m    493\u001b[0m         \u001b[0mlogger\u001b[0m\u001b[1;33m.\u001b[0m\u001b[0minfo\u001b[0m\u001b[1;33m(\u001b[0m\u001b[1;34m'Refreshing due to a %s'\u001b[0m \u001b[1;33m%\u001b[0m \u001b[0mstr\u001b[0m\u001b[1;33m(\u001b[0m\u001b[0mresp\u001b[0m\u001b[1;33m.\u001b[0m\u001b[0mstatus\u001b[0m\u001b[1;33m)\u001b[0m\u001b[1;33m)\u001b[0m\u001b[1;33m\u001b[0m\u001b[0m\n\u001b[1;32m--> 494\u001b[1;33m         \u001b[0mself\u001b[0m\u001b[1;33m.\u001b[0m\u001b[0m_refresh\u001b[0m\u001b[1;33m(\u001b[0m\u001b[0mrequest_orig\u001b[0m\u001b[1;33m)\u001b[0m\u001b[1;33m\u001b[0m\u001b[0m\n\u001b[0m\u001b[0;32m    495\u001b[0m         \u001b[0mself\u001b[0m\u001b[1;33m.\u001b[0m\u001b[0mapply\u001b[0m\u001b[1;33m(\u001b[0m\u001b[0mheaders\u001b[0m\u001b[1;33m)\u001b[0m\u001b[1;33m\u001b[0m\u001b[0m\n\u001b[0;32m    496\u001b[0m         return request_orig(uri, method, body, clean_headers(headers),\n",
        "\u001b[1;32mC:\\Users\\Jason\\AppData\\Local\\Enthought\\Canopy32\\User\\lib\\site-packages\\oauth2client\\client.pyc\u001b[0m in \u001b[0;36m_refresh\u001b[1;34m(self, http_request)\u001b[0m\n\u001b[0;32m    661\u001b[0m           \u001b[0mself\u001b[0m\u001b[1;33m.\u001b[0m\u001b[0m_updateFromCredential\u001b[0m\u001b[1;33m(\u001b[0m\u001b[0mnew_cred\u001b[0m\u001b[1;33m)\u001b[0m\u001b[1;33m\u001b[0m\u001b[0m\n\u001b[0;32m    662\u001b[0m         \u001b[1;32melse\u001b[0m\u001b[1;33m:\u001b[0m\u001b[1;33m\u001b[0m\u001b[0m\n\u001b[1;32m--> 663\u001b[1;33m           \u001b[0mself\u001b[0m\u001b[1;33m.\u001b[0m\u001b[0m_do_refresh_request\u001b[0m\u001b[1;33m(\u001b[0m\u001b[0mhttp_request\u001b[0m\u001b[1;33m)\u001b[0m\u001b[1;33m\u001b[0m\u001b[0m\n\u001b[0m\u001b[0;32m    664\u001b[0m       \u001b[1;32mfinally\u001b[0m\u001b[1;33m:\u001b[0m\u001b[1;33m\u001b[0m\u001b[0m\n\u001b[0;32m    665\u001b[0m         \u001b[0mself\u001b[0m\u001b[1;33m.\u001b[0m\u001b[0mstore\u001b[0m\u001b[1;33m.\u001b[0m\u001b[0mrelease_lock\u001b[0m\u001b[1;33m(\u001b[0m\u001b[1;33m)\u001b[0m\u001b[1;33m\u001b[0m\u001b[0m\n",
        "\u001b[1;32mC:\\Users\\Jason\\AppData\\Local\\Enthought\\Canopy32\\User\\lib\\site-packages\\oauth2client\\client.pyc\u001b[0m in \u001b[0;36m_do_refresh_request\u001b[1;34m(self, http_request)\u001b[0m\n\u001b[0;32m    708\u001b[0m       \u001b[1;32mexcept\u001b[0m \u001b[0mStandardError\u001b[0m\u001b[1;33m:\u001b[0m\u001b[1;33m\u001b[0m\u001b[0m\n\u001b[0;32m    709\u001b[0m         \u001b[1;32mpass\u001b[0m\u001b[1;33m\u001b[0m\u001b[0m\n\u001b[1;32m--> 710\u001b[1;33m       \u001b[1;32mraise\u001b[0m \u001b[0mAccessTokenRefreshError\u001b[0m\u001b[1;33m(\u001b[0m\u001b[0merror_msg\u001b[0m\u001b[1;33m)\u001b[0m\u001b[1;33m\u001b[0m\u001b[0m\n\u001b[0m\u001b[0;32m    711\u001b[0m \u001b[1;33m\u001b[0m\u001b[0m\n\u001b[0;32m    712\u001b[0m   \u001b[1;32mdef\u001b[0m \u001b[0m_revoke\u001b[0m\u001b[1;33m(\u001b[0m\u001b[0mself\u001b[0m\u001b[1;33m,\u001b[0m \u001b[0mhttp_request\u001b[0m\u001b[1;33m)\u001b[0m\u001b[1;33m:\u001b[0m\u001b[1;33m\u001b[0m\u001b[0m\n",
        "\u001b[1;31mAccessTokenRefreshError\u001b[0m: invalid_grant"
       ]
      }
     ],
     "prompt_number": 30
    },
    {
     "cell_type": "code",
     "collapsed": false,
     "input": [
      "with open('C:\\\\Users\\\\Jason\\\\Documents\\\\project_id.txt') as f:\n",
      "    project_id = f.read()\n",
      "with open('C:\\\\Users\\\\Jason\\\\Documents\\\\api_key.txt') as f:\n",
      "    api_key = f.read()"
     ],
     "language": "python",
     "metadata": {},
     "outputs": []
    },
    {
     "cell_type": "code",
     "collapsed": false,
     "input": [
      "import json\n",
      "import requests\n",
      "url = 'http://api.turfgame.com/v4/users'\n",
      "payload = [{\"name\" : \"TurfMeGently\"},{\"name\" : \"PocoLoco\"}]\n",
      "headers = {'content-type': 'application/json'}\n",
      "r = requests.post(url, data=json.dumps(payload), headers=headers)\n",
      "print r.content"
     ],
     "language": "python",
     "metadata": {},
     "outputs": [
      {
       "output_type": "stream",
       "stream": "stdout",
       "text": [
        "[{\"region\":{\"id\":142,\"name\":\"Uppsala\"},\"medals\":[31,52],\"pointsPerHour\":0,\"blocktime\":6,\"zones\":[],\"country\":\"se\",\"id\":80762,\"rank\":6,\"name\":\"TurfMeGently\",\"uniqueZonesTaken\":32,\"taken\":41,\"points\":3399,\"place\":1690,\"totalPoints\":5022},{\"region\":{\"id\":142,\"name\":\"Uppsala\"},\"medals\":[53,32,12,46,10],\"pointsPerHour\":2,\"blocktime\":13,\"zones\":[14878],\"country\":\"se\",\"id\":80290,\"rank\":13,\"name\":\"PocoLoco\",\"uniqueZonesTaken\":142,\"taken\":199,\"points\":19378,\"place\":562,\"totalPoints\":29218}]\n"
       ]
      }
     ],
     "prompt_number": 37
    },
    {
     "cell_type": "code",
     "collapsed": false,
     "input": [
      "import os\n",
      "\n",
      "def exportsingle_csv(df, chem):\n",
      "    exp_path = 'C:\\\\Users\\\\Jason\\\\Documents\\\\GitHub\\\\Turf_project'\n",
      "    df.to_csv(os.path.join(exp_path, chem+'.csv'), encoding='utf-8')"
     ],
     "language": "python",
     "metadata": {},
     "outputs": [],
     "prompt_number": 57
    }
   ],
   "metadata": {}
  }
 ]
}