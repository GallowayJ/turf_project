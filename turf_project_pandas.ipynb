{
 "cells": [
  {
   "cell_type": "markdown",
   "metadata": {},
   "source": [
    "# Calculating the value of turf zones using Pandas"
   ]
  },
  {
   "cell_type": "code",
   "execution_count": 1,
   "metadata": {
    "collapsed": false
   },
   "outputs": [],
   "source": [
    "%matplotlib inline\n",
    "from IPython.display import display\n",
    "import requests\n",
    "import pandas as pd\n",
    "import datetime\n",
    "import numexpr as ne"
   ]
  },
  {
   "cell_type": "raw",
   "metadata": {},
   "source": [
    "Fetch zone data from the turf v4 api and get current system time. The time that the data was fetched from the turf surfers will be used later in the calculation of average takeover per time delta."
   ]
  },
  {
   "cell_type": "code",
   "execution_count": 2,
   "metadata": {
    "collapsed": false
   },
   "outputs": [
    {
     "name": "stdout",
     "output_type": "stream",
     "text": [
      "2015-12-22 16:43:50.617856\n"
     ]
    }
   ],
   "source": [
    "url = \"http://api.turfgame.com/v4/zones/all\" # get request returns .json \n",
    "r = requests.get(url)\n",
    "df = pd.read_json(r.content) # create a df containing all zone info\n",
    "current_date = datetime.datetime.now() # system time at time of import\n",
    "print(current_date)"
   ]
  },
  {
   "cell_type": "raw",
   "metadata": {},
   "source": [
    "Let's print a preview of the dataframe the data types of each column to check that everything has been parsed properly."
   ]
  },
  {
   "cell_type": "code",
   "execution_count": 3,
   "metadata": {
    "collapsed": false
   },
   "outputs": [
    {
     "data": {
      "text/html": [
       "<div>\n",
       "<table border=\"1\" class=\"dataframe\">\n",
       "  <thead>\n",
       "    <tr style=\"text-align: right;\">\n",
       "      <th></th>\n",
       "      <th>dateCreated</th>\n",
       "      <th>id</th>\n",
       "      <th>latitude</th>\n",
       "      <th>longitude</th>\n",
       "      <th>name</th>\n",
       "      <th>pointsPerHour</th>\n",
       "      <th>region</th>\n",
       "      <th>takeoverPoints</th>\n",
       "      <th>totalTakeovers</th>\n",
       "    </tr>\n",
       "  </thead>\n",
       "  <tbody>\n",
       "    <tr>\n",
       "      <th>0</th>\n",
       "      <td>2014-06-15T20:02:37+0000</td>\n",
       "      <td>31571</td>\n",
       "      <td>55.649181</td>\n",
       "      <td>12.609056</td>\n",
       "      <td>Stenringen</td>\n",
       "      <td>1</td>\n",
       "      <td>{'id': 172, 'country': 'dk', 'name': 'Hovedsta...</td>\n",
       "      <td>185</td>\n",
       "      <td>21</td>\n",
       "    </tr>\n",
       "    <tr>\n",
       "      <th>1</th>\n",
       "      <td>2013-06-15T08:00:00+0000</td>\n",
       "      <td>14639</td>\n",
       "      <td>55.947079</td>\n",
       "      <td>-3.206477</td>\n",
       "      <td>GrandSquare</td>\n",
       "      <td>1</td>\n",
       "      <td>{'id': 200, 'country': 'gb', 'name': 'Scotland'}</td>\n",
       "      <td>185</td>\n",
       "      <td>90</td>\n",
       "    </tr>\n",
       "    <tr>\n",
       "      <th>2</th>\n",
       "      <td>2015-06-05T22:00:00+0000</td>\n",
       "      <td>54209</td>\n",
       "      <td>69.011607</td>\n",
       "      <td>23.044486</td>\n",
       "      <td>Kautokeino</td>\n",
       "      <td>1</td>\n",
       "      <td>{'id': 183, 'country': 'no', 'name': 'Nordnorge'}</td>\n",
       "      <td>185</td>\n",
       "      <td>2</td>\n",
       "    </tr>\n",
       "    <tr>\n",
       "      <th>3</th>\n",
       "      <td>2013-06-15T08:00:00+0000</td>\n",
       "      <td>18661</td>\n",
       "      <td>53.754283</td>\n",
       "      <td>-1.526638</td>\n",
       "      <td>LanshawZone</td>\n",
       "      <td>0</td>\n",
       "      <td>{'id': 202, 'country': 'gb', 'name': 'Yorkshir...</td>\n",
       "      <td>250</td>\n",
       "      <td>0</td>\n",
       "    </tr>\n",
       "    <tr>\n",
       "      <th>4</th>\n",
       "      <td>2013-06-15T08:00:00+0000</td>\n",
       "      <td>18958</td>\n",
       "      <td>54.593431</td>\n",
       "      <td>-5.953459</td>\n",
       "      <td>Hospitality</td>\n",
       "      <td>0</td>\n",
       "      <td>{'id': 206, 'country': 'gb', 'name': 'Northern...</td>\n",
       "      <td>250</td>\n",
       "      <td>1</td>\n",
       "    </tr>\n",
       "  </tbody>\n",
       "</table>\n",
       "</div>"
      ],
      "text/plain": [
       "                dateCreated     id   latitude  longitude         name  \\\n",
       "0  2014-06-15T20:02:37+0000  31571  55.649181  12.609056   Stenringen   \n",
       "1  2013-06-15T08:00:00+0000  14639  55.947079  -3.206477  GrandSquare   \n",
       "2  2015-06-05T22:00:00+0000  54209  69.011607  23.044486   Kautokeino   \n",
       "3  2013-06-15T08:00:00+0000  18661  53.754283  -1.526638  LanshawZone   \n",
       "4  2013-06-15T08:00:00+0000  18958  54.593431  -5.953459  Hospitality   \n",
       "\n",
       "   pointsPerHour                                             region  \\\n",
       "0              1  {'id': 172, 'country': 'dk', 'name': 'Hovedsta...   \n",
       "1              1   {'id': 200, 'country': 'gb', 'name': 'Scotland'}   \n",
       "2              1  {'id': 183, 'country': 'no', 'name': 'Nordnorge'}   \n",
       "3              0  {'id': 202, 'country': 'gb', 'name': 'Yorkshir...   \n",
       "4              0  {'id': 206, 'country': 'gb', 'name': 'Northern...   \n",
       "\n",
       "   takeoverPoints  totalTakeovers  \n",
       "0             185              21  \n",
       "1             185              90  \n",
       "2             185               2  \n",
       "3             250               0  \n",
       "4             250               1  "
      ]
     },
     "metadata": {},
     "output_type": "display_data"
    },
    {
     "data": {
      "text/plain": [
       "dateCreated        object\n",
       "id                  int64\n",
       "latitude          float64\n",
       "longitude         float64\n",
       "name               object\n",
       "pointsPerHour       int64\n",
       "region             object\n",
       "takeoverPoints      int64\n",
       "totalTakeovers      int64\n",
       "dtype: object"
      ]
     },
     "metadata": {},
     "output_type": "display_data"
    }
   ],
   "source": [
    "display(df.head(),(df.dtypes))"
   ]
  },
  {
   "cell_type": "raw",
   "metadata": {},
   "source": [
    "There are some columns which I don't need eg. 'id', the column 'dateCreated' has not been imported as the datatime64 datatype and the region column contained a nested table which we should promote to top level columns. To fix these issues we can drop uneeded columns, coerce the ints to datatime64 and pop the region column to a list before joining it to the rest of the data frame. \n",
    "\n",
    "NB: Pandas operations are generally NOT inplace, so we must assign the result where we would like it i.e. explicit overwrite the old data."
   ]
  },
  {
   "cell_type": "code",
   "execution_count": 4,
   "metadata": {
    "collapsed": false
   },
   "outputs": [],
   "source": [
    "region = pd.DataFrame(df.pop(\"region\").tolist())\n",
    "df = df.join(region, rsuffix=\"_region\")"
   ]
  },
  {
   "cell_type": "code",
   "execution_count": 5,
   "metadata": {
    "collapsed": false
   },
   "outputs": [
    {
     "data": {
      "text/html": [
       "<div>\n",
       "<table border=\"1\" class=\"dataframe\">\n",
       "  <thead>\n",
       "    <tr style=\"text-align: right;\">\n",
       "      <th></th>\n",
       "      <th>dateCreated</th>\n",
       "      <th>id</th>\n",
       "      <th>latitude</th>\n",
       "      <th>longitude</th>\n",
       "      <th>name</th>\n",
       "      <th>pointsPerHour</th>\n",
       "      <th>takeoverPoints</th>\n",
       "      <th>totalTakeovers</th>\n",
       "      <th>country</th>\n",
       "      <th>id_region</th>\n",
       "      <th>name_region</th>\n",
       "    </tr>\n",
       "  </thead>\n",
       "  <tbody>\n",
       "    <tr>\n",
       "      <th>34</th>\n",
       "      <td>2013-07-16T18:53:48+0000</td>\n",
       "      <td>20828</td>\n",
       "      <td>59.793476</td>\n",
       "      <td>17.775389</td>\n",
       "      <td>MoraStenRast</td>\n",
       "      <td>6</td>\n",
       "      <td>110</td>\n",
       "      <td>1158</td>\n",
       "      <td>se</td>\n",
       "      <td>142</td>\n",
       "      <td>Uppsala</td>\n",
       "    </tr>\n",
       "    <tr>\n",
       "      <th>71</th>\n",
       "      <td>2015-03-22T11:00:00+0000</td>\n",
       "      <td>46898</td>\n",
       "      <td>59.799585</td>\n",
       "      <td>17.671343</td>\n",
       "      <td>Brasse</td>\n",
       "      <td>4</td>\n",
       "      <td>140</td>\n",
       "      <td>391</td>\n",
       "      <td>se</td>\n",
       "      <td>142</td>\n",
       "      <td>Uppsala</td>\n",
       "    </tr>\n",
       "    <tr>\n",
       "      <th>75</th>\n",
       "      <td>2013-02-08T21:42:53+0000</td>\n",
       "      <td>14797</td>\n",
       "      <td>59.570418</td>\n",
       "      <td>17.482116</td>\n",
       "      <td>BålWoods</td>\n",
       "      <td>1</td>\n",
       "      <td>185</td>\n",
       "      <td>721</td>\n",
       "      <td>se</td>\n",
       "      <td>142</td>\n",
       "      <td>Uppsala</td>\n",
       "    </tr>\n",
       "    <tr>\n",
       "      <th>123</th>\n",
       "      <td>2015-02-08T10:00:00+0000</td>\n",
       "      <td>44579</td>\n",
       "      <td>59.946952</td>\n",
       "      <td>17.545636</td>\n",
       "      <td>OutOfControl</td>\n",
       "      <td>3</td>\n",
       "      <td>155</td>\n",
       "      <td>344</td>\n",
       "      <td>se</td>\n",
       "      <td>142</td>\n",
       "      <td>Uppsala</td>\n",
       "    </tr>\n",
       "    <tr>\n",
       "      <th>129</th>\n",
       "      <td>2014-06-19T12:00:00+0000</td>\n",
       "      <td>31843</td>\n",
       "      <td>59.617637</td>\n",
       "      <td>17.077094</td>\n",
       "      <td>EnaAlle</td>\n",
       "      <td>6</td>\n",
       "      <td>110</td>\n",
       "      <td>1123</td>\n",
       "      <td>se</td>\n",
       "      <td>142</td>\n",
       "      <td>Uppsala</td>\n",
       "    </tr>\n",
       "  </tbody>\n",
       "</table>\n",
       "</div>"
      ],
      "text/plain": [
       "                  dateCreated     id   latitude  longitude          name  \\\n",
       "34   2013-07-16T18:53:48+0000  20828  59.793476  17.775389  MoraStenRast   \n",
       "71   2015-03-22T11:00:00+0000  46898  59.799585  17.671343        Brasse   \n",
       "75   2013-02-08T21:42:53+0000  14797  59.570418  17.482116      BålWoods   \n",
       "123  2015-02-08T10:00:00+0000  44579  59.946952  17.545636  OutOfControl   \n",
       "129  2014-06-19T12:00:00+0000  31843  59.617637  17.077094       EnaAlle   \n",
       "\n",
       "     pointsPerHour  takeoverPoints  totalTakeovers country  id_region  \\\n",
       "34               6             110            1158      se        142   \n",
       "71               4             140             391      se        142   \n",
       "75               1             185             721      se        142   \n",
       "123              3             155             344      se        142   \n",
       "129              6             110            1123      se        142   \n",
       "\n",
       "    name_region  \n",
       "34      Uppsala  \n",
       "71      Uppsala  \n",
       "75      Uppsala  \n",
       "123     Uppsala  \n",
       "129     Uppsala  "
      ]
     },
     "metadata": {},
     "output_type": "display_data"
    }
   ],
   "source": [
    "df = df[df[\"name_region\"].str.contains(\"Uppsala\")]\n",
    "display(df.head())"
   ]
  },
  {
   "cell_type": "code",
   "execution_count": 6,
   "metadata": {
    "collapsed": false
   },
   "outputs": [
    {
     "data": {
      "text/html": [
       "<div>\n",
       "<table border=\"1\" class=\"dataframe\">\n",
       "  <thead>\n",
       "    <tr style=\"text-align: right;\">\n",
       "      <th></th>\n",
       "      <th>id</th>\n",
       "      <th>latitude</th>\n",
       "      <th>longitude</th>\n",
       "      <th>pointsPerHour</th>\n",
       "      <th>takeoverPoints</th>\n",
       "      <th>totalTakeovers</th>\n",
       "      <th>id_region</th>\n",
       "    </tr>\n",
       "  </thead>\n",
       "  <tbody>\n",
       "    <tr>\n",
       "      <th>count</th>\n",
       "      <td>1092.000000</td>\n",
       "      <td>1092.000000</td>\n",
       "      <td>1092.000000</td>\n",
       "      <td>1092.000000</td>\n",
       "      <td>1092.000000</td>\n",
       "      <td>1092.000000</td>\n",
       "      <td>1092</td>\n",
       "    </tr>\n",
       "    <tr>\n",
       "      <th>mean</th>\n",
       "      <td>28338.980769</td>\n",
       "      <td>59.874495</td>\n",
       "      <td>17.546503</td>\n",
       "      <td>3.652015</td>\n",
       "      <td>145.265568</td>\n",
       "      <td>1377.029304</td>\n",
       "      <td>142</td>\n",
       "    </tr>\n",
       "    <tr>\n",
       "      <th>std</th>\n",
       "      <td>16622.962813</td>\n",
       "      <td>0.235117</td>\n",
       "      <td>0.292576</td>\n",
       "      <td>2.357927</td>\n",
       "      <td>35.472107</td>\n",
       "      <td>1989.030064</td>\n",
       "      <td>0</td>\n",
       "    </tr>\n",
       "    <tr>\n",
       "      <th>min</th>\n",
       "      <td>341.000000</td>\n",
       "      <td>59.536344</td>\n",
       "      <td>16.841610</td>\n",
       "      <td>0.000000</td>\n",
       "      <td>65.000000</td>\n",
       "      <td>3.000000</td>\n",
       "      <td>142</td>\n",
       "    </tr>\n",
       "    <tr>\n",
       "      <th>25%</th>\n",
       "      <td>11823.750000</td>\n",
       "      <td>59.740261</td>\n",
       "      <td>17.435811</td>\n",
       "      <td>1.000000</td>\n",
       "      <td>110.000000</td>\n",
       "      <td>168.750000</td>\n",
       "      <td>142</td>\n",
       "    </tr>\n",
       "    <tr>\n",
       "      <th>50%</th>\n",
       "      <td>30916.500000</td>\n",
       "      <td>59.847449</td>\n",
       "      <td>17.613697</td>\n",
       "      <td>3.000000</td>\n",
       "      <td>155.000000</td>\n",
       "      <td>610.500000</td>\n",
       "      <td>142</td>\n",
       "    </tr>\n",
       "    <tr>\n",
       "      <th>75%</th>\n",
       "      <td>44588.250000</td>\n",
       "      <td>59.898972</td>\n",
       "      <td>17.672189</td>\n",
       "      <td>6.000000</td>\n",
       "      <td>185.000000</td>\n",
       "      <td>1853.250000</td>\n",
       "      <td>142</td>\n",
       "    </tr>\n",
       "    <tr>\n",
       "      <th>max</th>\n",
       "      <td>61035.000000</td>\n",
       "      <td>60.660998</td>\n",
       "      <td>19.133256</td>\n",
       "      <td>9.000000</td>\n",
       "      <td>250.000000</td>\n",
       "      <td>15935.000000</td>\n",
       "      <td>142</td>\n",
       "    </tr>\n",
       "  </tbody>\n",
       "</table>\n",
       "</div>"
      ],
      "text/plain": [
       "                 id     latitude    longitude  pointsPerHour  takeoverPoints  \\\n",
       "count   1092.000000  1092.000000  1092.000000    1092.000000     1092.000000   \n",
       "mean   28338.980769    59.874495    17.546503       3.652015      145.265568   \n",
       "std    16622.962813     0.235117     0.292576       2.357927       35.472107   \n",
       "min      341.000000    59.536344    16.841610       0.000000       65.000000   \n",
       "25%    11823.750000    59.740261    17.435811       1.000000      110.000000   \n",
       "50%    30916.500000    59.847449    17.613697       3.000000      155.000000   \n",
       "75%    44588.250000    59.898972    17.672189       6.000000      185.000000   \n",
       "max    61035.000000    60.660998    19.133256       9.000000      250.000000   \n",
       "\n",
       "       totalTakeovers  id_region  \n",
       "count     1092.000000       1092  \n",
       "mean      1377.029304        142  \n",
       "std       1989.030064          0  \n",
       "min          3.000000        142  \n",
       "25%        168.750000        142  \n",
       "50%        610.500000        142  \n",
       "75%       1853.250000        142  \n",
       "max      15935.000000        142  "
      ]
     },
     "execution_count": 6,
     "metadata": {},
     "output_type": "execute_result"
    }
   ],
   "source": [
    "df.describe()"
   ]
  },
  {
   "cell_type": "raw",
   "metadata": {},
   "source": [
    "I'm interested in the 'Uppsala' region, so I'll use .str.contains() to search for 'Uppsala', df[df[]] to select this slice and overwrite them to our old dataframe."
   ]
  },
  {
   "cell_type": "raw",
   "metadata": {},
   "source": [
    "Finally I'll get rid of uneeded columns using .drop and coerce the dataCreated column to datetime64."
   ]
  },
  {
   "cell_type": "code",
   "execution_count": 7,
   "metadata": {
    "collapsed": false
   },
   "outputs": [],
   "source": [
    "df.drop(['id', 'id_region', 'country', 'name_region'],inplace=True, axis = 1)"
   ]
  },
  {
   "cell_type": "code",
   "execution_count": 8,
   "metadata": {
    "collapsed": false
   },
   "outputs": [
    {
     "data": {
      "text/html": [
       "<div>\n",
       "<table border=\"1\" class=\"dataframe\">\n",
       "  <thead>\n",
       "    <tr style=\"text-align: right;\">\n",
       "      <th></th>\n",
       "      <th>dateCreated</th>\n",
       "      <th>latitude</th>\n",
       "      <th>longitude</th>\n",
       "      <th>name</th>\n",
       "      <th>pointsPerHour</th>\n",
       "      <th>takeoverPoints</th>\n",
       "      <th>totalTakeovers</th>\n",
       "    </tr>\n",
       "  </thead>\n",
       "  <tbody>\n",
       "    <tr>\n",
       "      <th>34</th>\n",
       "      <td>2013-07-16 18:53:48</td>\n",
       "      <td>59.793476</td>\n",
       "      <td>17.775389</td>\n",
       "      <td>MoraStenRast</td>\n",
       "      <td>6</td>\n",
       "      <td>110</td>\n",
       "      <td>1158</td>\n",
       "    </tr>\n",
       "    <tr>\n",
       "      <th>71</th>\n",
       "      <td>2015-03-22 11:00:00</td>\n",
       "      <td>59.799585</td>\n",
       "      <td>17.671343</td>\n",
       "      <td>Brasse</td>\n",
       "      <td>4</td>\n",
       "      <td>140</td>\n",
       "      <td>391</td>\n",
       "    </tr>\n",
       "    <tr>\n",
       "      <th>75</th>\n",
       "      <td>2013-02-08 21:42:53</td>\n",
       "      <td>59.570418</td>\n",
       "      <td>17.482116</td>\n",
       "      <td>BålWoods</td>\n",
       "      <td>1</td>\n",
       "      <td>185</td>\n",
       "      <td>721</td>\n",
       "    </tr>\n",
       "    <tr>\n",
       "      <th>123</th>\n",
       "      <td>2015-02-08 10:00:00</td>\n",
       "      <td>59.946952</td>\n",
       "      <td>17.545636</td>\n",
       "      <td>OutOfControl</td>\n",
       "      <td>3</td>\n",
       "      <td>155</td>\n",
       "      <td>344</td>\n",
       "    </tr>\n",
       "    <tr>\n",
       "      <th>129</th>\n",
       "      <td>2014-06-19 12:00:00</td>\n",
       "      <td>59.617637</td>\n",
       "      <td>17.077094</td>\n",
       "      <td>EnaAlle</td>\n",
       "      <td>6</td>\n",
       "      <td>110</td>\n",
       "      <td>1123</td>\n",
       "    </tr>\n",
       "  </tbody>\n",
       "</table>\n",
       "</div>"
      ],
      "text/plain": [
       "            dateCreated   latitude  longitude          name  pointsPerHour  \\\n",
       "34  2013-07-16 18:53:48  59.793476  17.775389  MoraStenRast              6   \n",
       "71  2015-03-22 11:00:00  59.799585  17.671343        Brasse              4   \n",
       "75  2013-02-08 21:42:53  59.570418  17.482116      BålWoods              1   \n",
       "123 2015-02-08 10:00:00  59.946952  17.545636  OutOfControl              3   \n",
       "129 2014-06-19 12:00:00  59.617637  17.077094       EnaAlle              6   \n",
       "\n",
       "     takeoverPoints  totalTakeovers  \n",
       "34              110            1158  \n",
       "71              140             391  \n",
       "75              185             721  \n",
       "123             155             344  \n",
       "129             110            1123  "
      ]
     },
     "metadata": {},
     "output_type": "display_data"
    },
    {
     "data": {
      "text/plain": [
       "dateCreated       datetime64[ns]\n",
       "latitude                 float64\n",
       "longitude                float64\n",
       "name                      object\n",
       "pointsPerHour              int64\n",
       "takeoverPoints             int64\n",
       "totalTakeovers             int64\n",
       "dtype: object"
      ]
     },
     "metadata": {},
     "output_type": "display_data"
    }
   ],
   "source": [
    "df['dateCreated'] = pd.to_datetime(df['dateCreated'])\n",
    "display(df.head(), df.dtypes)"
   ]
  },
  {
   "cell_type": "markdown",
   "metadata": {},
   "source": [
    "## Calculations"
   ]
  },
  {
   "cell_type": "raw",
   "metadata": {},
   "source": [
    "Now that the data has been imported in the correct format it's time to calculate the relative value of each zone. To do this I'll calculate an average hold time (in hours). I'll multiply this value by the zone's pph and add the takeover points."
   ]
  },
  {
   "cell_type": "code",
   "execution_count": 9,
   "metadata": {
    "collapsed": false
   },
   "outputs": [
    {
     "data": {
      "text/plain": [
       "34     888 days 21:50:02.617856\n",
       "71     275 days 05:43:50.617856\n",
       "75    1046 days 19:00:57.617856\n",
       "123    317 days 06:43:50.617856\n",
       "129    551 days 04:43:50.617856\n",
       "Name: time_elapsed, dtype: timedelta64[ns]"
      ]
     },
     "metadata": {},
     "output_type": "display_data"
    }
   ],
   "source": [
    "df['time_elapsed'] = current_date - df['dateCreated']\n",
    "display(df['time_elapsed'].head())"
   ]
  },
  {
   "cell_type": "raw",
   "metadata": {},
   "source": [
    "Now we have the timedelta between the zone's creation and the present we need to convert it into hours. NB Timedelta is measured in ns but presented in the most readable combination of absolute units (ie. days, hours, minutes, seconds)."
   ]
  },
  {
   "cell_type": "code",
   "execution_count": 10,
   "metadata": {
    "collapsed": false
   },
   "outputs": [
    {
     "data": {
      "text/plain": [
       "34     21312\n",
       "71      6600\n",
       "75     25104\n",
       "123     7608\n",
       "129    13224\n",
       "Name: time_elapsed, dtype: float64"
      ]
     },
     "metadata": {},
     "output_type": "display_data"
    }
   ],
   "source": [
    "df['time_elapsed'] = df['time_elapsed'].astype('timedelta64[D]') * 24\n",
    "display(df['time_elapsed'].head())"
   ]
  },
  {
   "cell_type": "raw",
   "metadata": {},
   "source": [
    "NB That the column is now a float64 and not a timedelta64"
   ]
  },
  {
   "cell_type": "code",
   "execution_count": 11,
   "metadata": {
    "collapsed": false
   },
   "outputs": [],
   "source": [
    "df['hold_time'] = df['time_elapsed'] / df['totalTakeovers']\n",
    "df['total_value'] = (df['hold_time'] * df['pointsPerHour']) + df['takeoverPoints']"
   ]
  },
  {
   "cell_type": "code",
   "execution_count": 12,
   "metadata": {
    "collapsed": false
   },
   "outputs": [
    {
     "data": {
      "text/plain": [
       "Index(['dateCreated', 'latitude', 'longitude', 'name', 'pointsPerHour',\n",
       "       'takeoverPoints', 'totalTakeovers', 'time_elapsed', 'hold_time',\n",
       "       'total_value'],\n",
       "      dtype='object')"
      ]
     },
     "metadata": {},
     "output_type": "display_data"
    },
    {
     "data": {
      "text/html": [
       "<div>\n",
       "<table border=\"1\" class=\"dataframe\">\n",
       "  <thead>\n",
       "    <tr style=\"text-align: right;\">\n",
       "      <th></th>\n",
       "      <th>dateCreated</th>\n",
       "      <th>latitude</th>\n",
       "      <th>longitude</th>\n",
       "      <th>name</th>\n",
       "      <th>pointsPerHour</th>\n",
       "      <th>takeoverPoints</th>\n",
       "      <th>totalTakeovers</th>\n",
       "      <th>time_elapsed</th>\n",
       "      <th>hold_time</th>\n",
       "      <th>total_value</th>\n",
       "    </tr>\n",
       "  </thead>\n",
       "  <tbody>\n",
       "    <tr>\n",
       "      <th>34</th>\n",
       "      <td>2013-07-16 18:53:48</td>\n",
       "      <td>59.793476</td>\n",
       "      <td>17.775389</td>\n",
       "      <td>MoraStenRast</td>\n",
       "      <td>6</td>\n",
       "      <td>110</td>\n",
       "      <td>1158</td>\n",
       "      <td>21312</td>\n",
       "      <td>18.404145</td>\n",
       "      <td>220.424870</td>\n",
       "    </tr>\n",
       "    <tr>\n",
       "      <th>71</th>\n",
       "      <td>2015-03-22 11:00:00</td>\n",
       "      <td>59.799585</td>\n",
       "      <td>17.671343</td>\n",
       "      <td>Brasse</td>\n",
       "      <td>4</td>\n",
       "      <td>140</td>\n",
       "      <td>391</td>\n",
       "      <td>6600</td>\n",
       "      <td>16.879795</td>\n",
       "      <td>207.519182</td>\n",
       "    </tr>\n",
       "    <tr>\n",
       "      <th>75</th>\n",
       "      <td>2013-02-08 21:42:53</td>\n",
       "      <td>59.570418</td>\n",
       "      <td>17.482116</td>\n",
       "      <td>BålWoods</td>\n",
       "      <td>1</td>\n",
       "      <td>185</td>\n",
       "      <td>721</td>\n",
       "      <td>25104</td>\n",
       "      <td>34.818308</td>\n",
       "      <td>219.818308</td>\n",
       "    </tr>\n",
       "    <tr>\n",
       "      <th>123</th>\n",
       "      <td>2015-02-08 10:00:00</td>\n",
       "      <td>59.946952</td>\n",
       "      <td>17.545636</td>\n",
       "      <td>OutOfControl</td>\n",
       "      <td>3</td>\n",
       "      <td>155</td>\n",
       "      <td>344</td>\n",
       "      <td>7608</td>\n",
       "      <td>22.116279</td>\n",
       "      <td>221.348837</td>\n",
       "    </tr>\n",
       "    <tr>\n",
       "      <th>129</th>\n",
       "      <td>2014-06-19 12:00:00</td>\n",
       "      <td>59.617637</td>\n",
       "      <td>17.077094</td>\n",
       "      <td>EnaAlle</td>\n",
       "      <td>6</td>\n",
       "      <td>110</td>\n",
       "      <td>1123</td>\n",
       "      <td>13224</td>\n",
       "      <td>11.775601</td>\n",
       "      <td>180.653606</td>\n",
       "    </tr>\n",
       "  </tbody>\n",
       "</table>\n",
       "</div>"
      ],
      "text/plain": [
       "            dateCreated   latitude  longitude          name  pointsPerHour  \\\n",
       "34  2013-07-16 18:53:48  59.793476  17.775389  MoraStenRast              6   \n",
       "71  2015-03-22 11:00:00  59.799585  17.671343        Brasse              4   \n",
       "75  2013-02-08 21:42:53  59.570418  17.482116      BålWoods              1   \n",
       "123 2015-02-08 10:00:00  59.946952  17.545636  OutOfControl              3   \n",
       "129 2014-06-19 12:00:00  59.617637  17.077094       EnaAlle              6   \n",
       "\n",
       "     takeoverPoints  totalTakeovers  time_elapsed  hold_time  total_value  \n",
       "34              110            1158         21312  18.404145   220.424870  \n",
       "71              140             391          6600  16.879795   207.519182  \n",
       "75              185             721         25104  34.818308   219.818308  \n",
       "123             155             344          7608  22.116279   221.348837  \n",
       "129             110            1123         13224  11.775601   180.653606  "
      ]
     },
     "metadata": {},
     "output_type": "display_data"
    }
   ],
   "source": [
    "display(df.columns, df.head())"
   ]
  },
  {
   "cell_type": "code",
   "execution_count": 13,
   "metadata": {
    "collapsed": false
   },
   "outputs": [
    {
     "data": {
      "text/html": [
       "<div>\n",
       "<table border=\"1\" class=\"dataframe\">\n",
       "  <thead>\n",
       "    <tr style=\"text-align: right;\">\n",
       "      <th></th>\n",
       "      <th>dateCreated</th>\n",
       "      <th>latitude</th>\n",
       "      <th>longitude</th>\n",
       "      <th>name</th>\n",
       "      <th>pointsPerHour</th>\n",
       "      <th>takeoverPoints</th>\n",
       "      <th>totalTakeovers</th>\n",
       "      <th>time_elapsed</th>\n",
       "      <th>hold_time</th>\n",
       "      <th>total_value</th>\n",
       "    </tr>\n",
       "  </thead>\n",
       "  <tbody>\n",
       "    <tr>\n",
       "      <th>29254</th>\n",
       "      <td>2014-07-28 22:00:00</td>\n",
       "      <td>59.551758</td>\n",
       "      <td>17.552917</td>\n",
       "      <td>BålstaDopp</td>\n",
       "      <td>1</td>\n",
       "      <td>185</td>\n",
       "      <td>4</td>\n",
       "      <td>12264</td>\n",
       "      <td>3066.000000</td>\n",
       "      <td>3251.000000</td>\n",
       "    </tr>\n",
       "    <tr>\n",
       "      <th>18614</th>\n",
       "      <td>2015-04-22 19:15:00</td>\n",
       "      <td>60.183703</td>\n",
       "      <td>18.169321</td>\n",
       "      <td>Plurret</td>\n",
       "      <td>1</td>\n",
       "      <td>185</td>\n",
       "      <td>3</td>\n",
       "      <td>5832</td>\n",
       "      <td>1944.000000</td>\n",
       "      <td>2129.000000</td>\n",
       "    </tr>\n",
       "    <tr>\n",
       "      <th>9145</th>\n",
       "      <td>2014-09-21 10:00:00</td>\n",
       "      <td>60.300895</td>\n",
       "      <td>19.133256</td>\n",
       "      <td>Märket</td>\n",
       "      <td>1</td>\n",
       "      <td>185</td>\n",
       "      <td>6</td>\n",
       "      <td>10968</td>\n",
       "      <td>1828.000000</td>\n",
       "      <td>2013.000000</td>\n",
       "    </tr>\n",
       "    <tr>\n",
       "      <th>8232</th>\n",
       "      <td>2015-02-05 19:31:54</td>\n",
       "      <td>60.015222</td>\n",
       "      <td>17.106797</td>\n",
       "      <td>JobbaFörZonen</td>\n",
       "      <td>1</td>\n",
       "      <td>185</td>\n",
       "      <td>5</td>\n",
       "      <td>7656</td>\n",
       "      <td>1531.200000</td>\n",
       "      <td>1716.200000</td>\n",
       "    </tr>\n",
       "    <tr>\n",
       "      <th>20506</th>\n",
       "      <td>2015-05-07 20:55:00</td>\n",
       "      <td>59.971086</td>\n",
       "      <td>17.088223</td>\n",
       "      <td>Upplandsberg</td>\n",
       "      <td>1</td>\n",
       "      <td>185</td>\n",
       "      <td>4</td>\n",
       "      <td>5472</td>\n",
       "      <td>1368.000000</td>\n",
       "      <td>1553.000000</td>\n",
       "    </tr>\n",
       "    <tr>\n",
       "      <th>20339</th>\n",
       "      <td>2015-01-12 17:00:00</td>\n",
       "      <td>59.591547</td>\n",
       "      <td>17.068185</td>\n",
       "      <td>AquanautZone</td>\n",
       "      <td>1</td>\n",
       "      <td>185</td>\n",
       "      <td>9</td>\n",
       "      <td>8232</td>\n",
       "      <td>914.666667</td>\n",
       "      <td>1099.666667</td>\n",
       "    </tr>\n",
       "    <tr>\n",
       "      <th>3081</th>\n",
       "      <td>2014-07-28 22:00:00</td>\n",
       "      <td>60.628049</td>\n",
       "      <td>17.416366</td>\n",
       "      <td>Skutbad</td>\n",
       "      <td>1</td>\n",
       "      <td>185</td>\n",
       "      <td>15</td>\n",
       "      <td>12264</td>\n",
       "      <td>817.600000</td>\n",
       "      <td>1002.600000</td>\n",
       "    </tr>\n",
       "    <tr>\n",
       "      <th>509</th>\n",
       "      <td>2015-07-26 08:23:30</td>\n",
       "      <td>59.745146</td>\n",
       "      <td>17.624096</td>\n",
       "      <td>Flässjan</td>\n",
       "      <td>2</td>\n",
       "      <td>170</td>\n",
       "      <td>9</td>\n",
       "      <td>3576</td>\n",
       "      <td>397.333333</td>\n",
       "      <td>964.666667</td>\n",
       "    </tr>\n",
       "    <tr>\n",
       "      <th>22981</th>\n",
       "      <td>2015-02-14 05:00:00</td>\n",
       "      <td>59.737383</td>\n",
       "      <td>17.566068</td>\n",
       "      <td>Koffsan</td>\n",
       "      <td>1</td>\n",
       "      <td>185</td>\n",
       "      <td>10</td>\n",
       "      <td>7464</td>\n",
       "      <td>746.400000</td>\n",
       "      <td>931.400000</td>\n",
       "    </tr>\n",
       "    <tr>\n",
       "      <th>22337</th>\n",
       "      <td>2015-02-14 05:00:00</td>\n",
       "      <td>59.726284</td>\n",
       "      <td>17.544565</td>\n",
       "      <td>Arnöhuvud</td>\n",
       "      <td>1</td>\n",
       "      <td>185</td>\n",
       "      <td>10</td>\n",
       "      <td>7464</td>\n",
       "      <td>746.400000</td>\n",
       "      <td>931.400000</td>\n",
       "    </tr>\n",
       "  </tbody>\n",
       "</table>\n",
       "</div>"
      ],
      "text/plain": [
       "              dateCreated   latitude  longitude           name  pointsPerHour  \\\n",
       "29254 2014-07-28 22:00:00  59.551758  17.552917     BålstaDopp              1   \n",
       "18614 2015-04-22 19:15:00  60.183703  18.169321        Plurret              1   \n",
       "9145  2014-09-21 10:00:00  60.300895  19.133256         Märket              1   \n",
       "8232  2015-02-05 19:31:54  60.015222  17.106797  JobbaFörZonen              1   \n",
       "20506 2015-05-07 20:55:00  59.971086  17.088223   Upplandsberg              1   \n",
       "20339 2015-01-12 17:00:00  59.591547  17.068185   AquanautZone              1   \n",
       "3081  2014-07-28 22:00:00  60.628049  17.416366        Skutbad              1   \n",
       "509   2015-07-26 08:23:30  59.745146  17.624096       Flässjan              2   \n",
       "22981 2015-02-14 05:00:00  59.737383  17.566068        Koffsan              1   \n",
       "22337 2015-02-14 05:00:00  59.726284  17.544565      Arnöhuvud              1   \n",
       "\n",
       "       takeoverPoints  totalTakeovers  time_elapsed    hold_time  total_value  \n",
       "29254             185               4         12264  3066.000000  3251.000000  \n",
       "18614             185               3          5832  1944.000000  2129.000000  \n",
       "9145              185               6         10968  1828.000000  2013.000000  \n",
       "8232              185               5          7656  1531.200000  1716.200000  \n",
       "20506             185               4          5472  1368.000000  1553.000000  \n",
       "20339             185               9          8232   914.666667  1099.666667  \n",
       "3081              185              15         12264   817.600000  1002.600000  \n",
       "509               170               9          3576   397.333333   964.666667  \n",
       "22981             185              10          7464   746.400000   931.400000  \n",
       "22337             185              10          7464   746.400000   931.400000  "
      ]
     },
     "metadata": {},
     "output_type": "display_data"
    }
   ],
   "source": [
    "df.sort_values('total_value', ascending=False, inplace=True)\n",
    "display(df.head(n=10))"
   ]
  },
  {
   "cell_type": "raw",
   "metadata": {},
   "source": [
    "Some zones classified by the turf game as being in the Uppsala region are quite far from the city of Uppsala so we'll use .query() to refine our subselection of zones."
   ]
  },
  {
   "cell_type": "code",
   "execution_count": 14,
   "metadata": {
    "collapsed": false
   },
   "outputs": [],
   "source": [
    "df = df.query('latitude > 59.787105 & latitude < 59.887502 & \\\n",
    "              longitude < 17.677434 & longitude > 17.630056')"
   ]
  },
  {
   "cell_type": "raw",
   "metadata": {},
   "source": [
    "Now that we have completed our calculations we can plot our results on a Google map."
   ]
  },
  {
   "cell_type": "markdown",
   "metadata": {},
   "source": [
    "# Data visualisation: plotting to a Google map using gmplot"
   ]
  },
  {
   "cell_type": "code",
   "execution_count": 15,
   "metadata": {
    "collapsed": true
   },
   "outputs": [],
   "source": [
    "import numpy as np\n",
    "from gmplot import GoogleMapPlotter"
   ]
  },
  {
   "cell_type": "markdown",
   "metadata": {},
   "source": [
    "NB: At the time of writing, gmplot is only available for Python 2.x. However 2to3 can be used to port the code to Python 3.x."
   ]
  },
  {
   "cell_type": "markdown",
   "metadata": {},
   "source": [
    "We'll use the coordinates for the first turf zone in our list as a point on which to centre our map."
   ]
  },
  {
   "cell_type": "code",
   "execution_count": 16,
   "metadata": {
    "collapsed": false
   },
   "outputs": [],
   "source": [
    "centre_lat = df.iat[0, 1] #df.iat[row, col]\n",
    "centre_lon = df.iat[0, 2]"
   ]
  },
  {
   "cell_type": "markdown",
   "metadata": {},
   "source": [
    "We can use pd.iat for indexing and create to lists to store our coordinates."
   ]
  },
  {
   "cell_type": "code",
   "execution_count": 17,
   "metadata": {
    "collapsed": false
   },
   "outputs": [],
   "source": [
    "number_of_zones = 20 # Number of zones to plot\n",
    "lat = []\n",
    "lon = []\n",
    "\n",
    "for zone in range(number_of_zones):\n",
    "    lat.append(df.iat[zone, 1])\n",
    "    lon.append(df.iat[zone, 2])"
   ]
  },
  {
   "cell_type": "markdown",
   "metadata": {},
   "source": [
    "Finally pass the lists of latitudes and longitudes to a GoogleMapPlotter object for plotting and save the file."
   ]
  },
  {
   "cell_type": "code",
   "execution_count": 18,
   "metadata": {
    "collapsed": true
   },
   "outputs": [],
   "source": [
    "gmap = GoogleMapPlotter(centre_lat, centre_lon, 12) #centre lat, lon, map size\n",
    "gmap.scatter(lat,lon)\n",
    "gmap.draw(\"TopTwentyZones.html\")"
   ]
  }
 ],
 "metadata": {
  "kernelspec": {
   "display_name": "Python 3",
   "language": "python",
   "name": "python3"
  },
  "language_info": {
   "codemirror_mode": {
    "name": "ipython",
    "version": 3
   },
   "file_extension": ".py",
   "mimetype": "text/x-python",
   "name": "python",
   "nbconvert_exporter": "python",
   "pygments_lexer": "ipython3",
   "version": "3.4.3"
  }
 },
 "nbformat": 4,
 "nbformat_minor": 0
}
